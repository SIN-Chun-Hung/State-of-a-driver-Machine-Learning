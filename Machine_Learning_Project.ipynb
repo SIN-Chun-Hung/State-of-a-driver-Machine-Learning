{
 "cells": [
  {
   "cell_type": "markdown",
   "id": "3b3d6ff9",
   "metadata": {},
   "source": [
    "<font size=5>This research project is conducted and completed by SIN Chun Hung, a mathematician from The Hong Kong University of Science and Technology. "
   ]
  },
  {
   "cell_type": "markdown",
   "id": "bec291c9",
   "metadata": {},
   "source": [
    "## Problem Statement\n",
    "\n",
    "Stay alert is one of the fundamental factors of safety driving.If a driver loses concentration and not stay alert,the probability of triggering traffic accident will be higher.In this project,decision tree classifier and random forest will be applied to the real world dataset from Kaggle(https://www.kaggle.com/datasets), **predicting whether the drivers are in alert or not.**"
   ]
  },
  {
   "cell_type": "markdown",
   "id": "6636f5e5",
   "metadata": {},
   "source": [
    "## Downloading the data"
   ]
  },
  {
   "cell_type": "code",
   "execution_count": 1,
   "id": "8e833b7d",
   "metadata": {},
   "outputs": [],
   "source": [
    "# install the opendatasets library\n",
    "!pip install opendatasets --upgrade --quiet"
   ]
  },
  {
   "cell_type": "code",
   "execution_count": 2,
   "id": "c2a4f12f",
   "metadata": {},
   "outputs": [],
   "source": [
    "import opendatasets as od"
   ]
  },
  {
   "cell_type": "code",
   "execution_count": 3,
   "id": "97799d0d",
   "metadata": {},
   "outputs": [],
   "source": [
    "dataset_url = 'https://www.kaggle.com/c/stayalert/data'"
   ]
  },
  {
   "cell_type": "code",
   "execution_count": 4,
   "id": "a0551b02",
   "metadata": {},
   "outputs": [
    {
     "name": "stdout",
     "output_type": "stream",
     "text": [
      "Skipping, found downloaded files in \".\\stayalert\" (use force=True to force download)\n"
     ]
    }
   ],
   "source": [
    "od.download(dataset_url)"
   ]
  },
  {
   "cell_type": "markdown",
   "id": "e2380dd4",
   "metadata": {},
   "source": [
    "It is easy to check whether the file is downloaded by importing os."
   ]
  },
  {
   "cell_type": "code",
   "execution_count": 5,
   "id": "6a87a180",
   "metadata": {},
   "outputs": [],
   "source": [
    "import os"
   ]
  },
  {
   "cell_type": "code",
   "execution_count": 6,
   "id": "51dba2c9",
   "metadata": {},
   "outputs": [],
   "source": [
    "data_dir = './stayalert'"
   ]
  },
  {
   "cell_type": "code",
   "execution_count": 7,
   "id": "366af469",
   "metadata": {},
   "outputs": [
    {
     "data": {
      "text/plain": [
       "['example_submission.csv', 'fordTest.csv', 'fordTrain.csv', 'Solution.csv']"
      ]
     },
     "execution_count": 7,
     "metadata": {},
     "output_type": "execute_result"
    }
   ],
   "source": [
    "os.listdir(data_dir)"
   ]
  },
  {
   "cell_type": "markdown",
   "id": "57f2d0ff",
   "metadata": {},
   "source": [
    "There are four excel documents downloaded,storing in file stayalert.'fordTest.csv' and 'fordTrain.csv' will be used for this project and others can be ignored.(As the prediction created will not submit to Kaggle,just for project purpose.)"
   ]
  },
  {
   "cell_type": "markdown",
   "id": "676be0f8",
   "metadata": {},
   "source": [
    "## Convert the dataset into pandas dataframe"
   ]
  },
  {
   "cell_type": "code",
   "execution_count": 8,
   "id": "0aeb9744",
   "metadata": {},
   "outputs": [],
   "source": [
    "!pip install pandas --upgrade --quiet"
   ]
  },
  {
   "cell_type": "code",
   "execution_count": 9,
   "id": "13101ac6",
   "metadata": {},
   "outputs": [],
   "source": [
    "import pandas as pd"
   ]
  },
  {
   "cell_type": "code",
   "execution_count": 10,
   "id": "edd433d9",
   "metadata": {},
   "outputs": [],
   "source": [
    "original_data_set = pd.read_csv('./stayalert/fordTrain.csv')"
   ]
  },
  {
   "cell_type": "code",
   "execution_count": 11,
   "id": "39faa385",
   "metadata": {},
   "outputs": [
    {
     "data": {
      "text/html": [
       "<div>\n",
       "<style scoped>\n",
       "    .dataframe tbody tr th:only-of-type {\n",
       "        vertical-align: middle;\n",
       "    }\n",
       "\n",
       "    .dataframe tbody tr th {\n",
       "        vertical-align: top;\n",
       "    }\n",
       "\n",
       "    .dataframe thead th {\n",
       "        text-align: right;\n",
       "    }\n",
       "</style>\n",
       "<table border=\"1\" class=\"dataframe\">\n",
       "  <thead>\n",
       "    <tr style=\"text-align: right;\">\n",
       "      <th></th>\n",
       "      <th>TrialID</th>\n",
       "      <th>ObsNum</th>\n",
       "      <th>IsAlert</th>\n",
       "      <th>P1</th>\n",
       "      <th>P2</th>\n",
       "      <th>P3</th>\n",
       "      <th>P4</th>\n",
       "      <th>P5</th>\n",
       "      <th>P6</th>\n",
       "      <th>P7</th>\n",
       "      <th>...</th>\n",
       "      <th>V2</th>\n",
       "      <th>V3</th>\n",
       "      <th>V4</th>\n",
       "      <th>V5</th>\n",
       "      <th>V6</th>\n",
       "      <th>V7</th>\n",
       "      <th>V8</th>\n",
       "      <th>V9</th>\n",
       "      <th>V10</th>\n",
       "      <th>V11</th>\n",
       "    </tr>\n",
       "  </thead>\n",
       "  <tbody>\n",
       "    <tr>\n",
       "      <th>0</th>\n",
       "      <td>0</td>\n",
       "      <td>0</td>\n",
       "      <td>0</td>\n",
       "      <td>34.7406</td>\n",
       "      <td>9.84593</td>\n",
       "      <td>1400</td>\n",
       "      <td>42.8571</td>\n",
       "      <td>0.290601</td>\n",
       "      <td>572</td>\n",
       "      <td>104.8950</td>\n",
       "      <td>...</td>\n",
       "      <td>0.175</td>\n",
       "      <td>752</td>\n",
       "      <td>5.99375</td>\n",
       "      <td>0</td>\n",
       "      <td>2005</td>\n",
       "      <td>0</td>\n",
       "      <td>13.4</td>\n",
       "      <td>0</td>\n",
       "      <td>4</td>\n",
       "      <td>14.8004</td>\n",
       "    </tr>\n",
       "    <tr>\n",
       "      <th>1</th>\n",
       "      <td>0</td>\n",
       "      <td>1</td>\n",
       "      <td>0</td>\n",
       "      <td>34.4215</td>\n",
       "      <td>13.41120</td>\n",
       "      <td>1400</td>\n",
       "      <td>42.8571</td>\n",
       "      <td>0.290601</td>\n",
       "      <td>572</td>\n",
       "      <td>104.8950</td>\n",
       "      <td>...</td>\n",
       "      <td>0.455</td>\n",
       "      <td>752</td>\n",
       "      <td>5.99375</td>\n",
       "      <td>0</td>\n",
       "      <td>2007</td>\n",
       "      <td>0</td>\n",
       "      <td>13.4</td>\n",
       "      <td>0</td>\n",
       "      <td>4</td>\n",
       "      <td>14.7729</td>\n",
       "    </tr>\n",
       "    <tr>\n",
       "      <th>2</th>\n",
       "      <td>0</td>\n",
       "      <td>2</td>\n",
       "      <td>0</td>\n",
       "      <td>34.3447</td>\n",
       "      <td>15.18520</td>\n",
       "      <td>1400</td>\n",
       "      <td>42.8571</td>\n",
       "      <td>0.290601</td>\n",
       "      <td>576</td>\n",
       "      <td>104.1670</td>\n",
       "      <td>...</td>\n",
       "      <td>0.280</td>\n",
       "      <td>752</td>\n",
       "      <td>5.99375</td>\n",
       "      <td>0</td>\n",
       "      <td>2011</td>\n",
       "      <td>0</td>\n",
       "      <td>13.4</td>\n",
       "      <td>0</td>\n",
       "      <td>4</td>\n",
       "      <td>14.7736</td>\n",
       "    </tr>\n",
       "    <tr>\n",
       "      <th>3</th>\n",
       "      <td>0</td>\n",
       "      <td>3</td>\n",
       "      <td>0</td>\n",
       "      <td>34.3421</td>\n",
       "      <td>8.84696</td>\n",
       "      <td>1400</td>\n",
       "      <td>42.8571</td>\n",
       "      <td>0.290601</td>\n",
       "      <td>576</td>\n",
       "      <td>104.1670</td>\n",
       "      <td>...</td>\n",
       "      <td>0.070</td>\n",
       "      <td>752</td>\n",
       "      <td>5.99375</td>\n",
       "      <td>0</td>\n",
       "      <td>2015</td>\n",
       "      <td>0</td>\n",
       "      <td>13.4</td>\n",
       "      <td>0</td>\n",
       "      <td>4</td>\n",
       "      <td>14.7667</td>\n",
       "    </tr>\n",
       "    <tr>\n",
       "      <th>4</th>\n",
       "      <td>0</td>\n",
       "      <td>4</td>\n",
       "      <td>0</td>\n",
       "      <td>34.3322</td>\n",
       "      <td>14.69940</td>\n",
       "      <td>1400</td>\n",
       "      <td>42.8571</td>\n",
       "      <td>0.290601</td>\n",
       "      <td>576</td>\n",
       "      <td>104.1670</td>\n",
       "      <td>...</td>\n",
       "      <td>0.175</td>\n",
       "      <td>752</td>\n",
       "      <td>5.99375</td>\n",
       "      <td>0</td>\n",
       "      <td>2017</td>\n",
       "      <td>0</td>\n",
       "      <td>13.4</td>\n",
       "      <td>0</td>\n",
       "      <td>4</td>\n",
       "      <td>14.7757</td>\n",
       "    </tr>\n",
       "    <tr>\n",
       "      <th>...</th>\n",
       "      <td>...</td>\n",
       "      <td>...</td>\n",
       "      <td>...</td>\n",
       "      <td>...</td>\n",
       "      <td>...</td>\n",
       "      <td>...</td>\n",
       "      <td>...</td>\n",
       "      <td>...</td>\n",
       "      <td>...</td>\n",
       "      <td>...</td>\n",
       "      <td>...</td>\n",
       "      <td>...</td>\n",
       "      <td>...</td>\n",
       "      <td>...</td>\n",
       "      <td>...</td>\n",
       "      <td>...</td>\n",
       "      <td>...</td>\n",
       "      <td>...</td>\n",
       "      <td>...</td>\n",
       "      <td>...</td>\n",
       "      <td>...</td>\n",
       "    </tr>\n",
       "    <tr>\n",
       "      <th>604324</th>\n",
       "      <td>510</td>\n",
       "      <td>1194</td>\n",
       "      <td>1</td>\n",
       "      <td>32.0051</td>\n",
       "      <td>10.13240</td>\n",
       "      <td>800</td>\n",
       "      <td>75.0000</td>\n",
       "      <td>0.081731</td>\n",
       "      <td>680</td>\n",
       "      <td>88.2353</td>\n",
       "      <td>...</td>\n",
       "      <td>0.280</td>\n",
       "      <td>240</td>\n",
       "      <td>3.01875</td>\n",
       "      <td>0</td>\n",
       "      <td>1801</td>\n",
       "      <td>0</td>\n",
       "      <td>30.4</td>\n",
       "      <td>0</td>\n",
       "      <td>4</td>\n",
       "      <td>15.8113</td>\n",
       "    </tr>\n",
       "    <tr>\n",
       "      <th>604325</th>\n",
       "      <td>510</td>\n",
       "      <td>1195</td>\n",
       "      <td>1</td>\n",
       "      <td>32.0393</td>\n",
       "      <td>12.45040</td>\n",
       "      <td>800</td>\n",
       "      <td>75.0000</td>\n",
       "      <td>0.081731</td>\n",
       "      <td>680</td>\n",
       "      <td>88.2353</td>\n",
       "      <td>...</td>\n",
       "      <td>0.280</td>\n",
       "      <td>240</td>\n",
       "      <td>3.01875</td>\n",
       "      <td>0</td>\n",
       "      <td>1801</td>\n",
       "      <td>0</td>\n",
       "      <td>30.4</td>\n",
       "      <td>0</td>\n",
       "      <td>4</td>\n",
       "      <td>15.8018</td>\n",
       "    </tr>\n",
       "    <tr>\n",
       "      <th>604326</th>\n",
       "      <td>510</td>\n",
       "      <td>1196</td>\n",
       "      <td>1</td>\n",
       "      <td>32.0762</td>\n",
       "      <td>10.06180</td>\n",
       "      <td>800</td>\n",
       "      <td>75.0000</td>\n",
       "      <td>0.081731</td>\n",
       "      <td>680</td>\n",
       "      <td>88.2353</td>\n",
       "      <td>...</td>\n",
       "      <td>0.175</td>\n",
       "      <td>240</td>\n",
       "      <td>3.01875</td>\n",
       "      <td>0</td>\n",
       "      <td>1800</td>\n",
       "      <td>0</td>\n",
       "      <td>31.3</td>\n",
       "      <td>0</td>\n",
       "      <td>4</td>\n",
       "      <td>15.8120</td>\n",
       "    </tr>\n",
       "    <tr>\n",
       "      <th>604327</th>\n",
       "      <td>510</td>\n",
       "      <td>1197</td>\n",
       "      <td>1</td>\n",
       "      <td>32.1154</td>\n",
       "      <td>17.84500</td>\n",
       "      <td>800</td>\n",
       "      <td>75.0000</td>\n",
       "      <td>0.081731</td>\n",
       "      <td>680</td>\n",
       "      <td>88.2353</td>\n",
       "      <td>...</td>\n",
       "      <td>0.175</td>\n",
       "      <td>240</td>\n",
       "      <td>3.01875</td>\n",
       "      <td>0</td>\n",
       "      <td>1800</td>\n",
       "      <td>0</td>\n",
       "      <td>31.3</td>\n",
       "      <td>0</td>\n",
       "      <td>4</td>\n",
       "      <td>15.8270</td>\n",
       "    </tr>\n",
       "    <tr>\n",
       "      <th>604328</th>\n",
       "      <td>510</td>\n",
       "      <td>1198</td>\n",
       "      <td>1</td>\n",
       "      <td>32.1154</td>\n",
       "      <td>17.84500</td>\n",
       "      <td>800</td>\n",
       "      <td>75.0000</td>\n",
       "      <td>0.081731</td>\n",
       "      <td>680</td>\n",
       "      <td>88.2353</td>\n",
       "      <td>...</td>\n",
       "      <td>0.175</td>\n",
       "      <td>240</td>\n",
       "      <td>3.01875</td>\n",
       "      <td>0</td>\n",
       "      <td>1800</td>\n",
       "      <td>0</td>\n",
       "      <td>31.3</td>\n",
       "      <td>0</td>\n",
       "      <td>4</td>\n",
       "      <td>15.8270</td>\n",
       "    </tr>\n",
       "  </tbody>\n",
       "</table>\n",
       "<p>604329 rows × 33 columns</p>\n",
       "</div>"
      ],
      "text/plain": [
       "        TrialID  ObsNum  IsAlert       P1        P2    P3       P4        P5  \\\n",
       "0             0       0        0  34.7406   9.84593  1400  42.8571  0.290601   \n",
       "1             0       1        0  34.4215  13.41120  1400  42.8571  0.290601   \n",
       "2             0       2        0  34.3447  15.18520  1400  42.8571  0.290601   \n",
       "3             0       3        0  34.3421   8.84696  1400  42.8571  0.290601   \n",
       "4             0       4        0  34.3322  14.69940  1400  42.8571  0.290601   \n",
       "...         ...     ...      ...      ...       ...   ...      ...       ...   \n",
       "604324      510    1194        1  32.0051  10.13240   800  75.0000  0.081731   \n",
       "604325      510    1195        1  32.0393  12.45040   800  75.0000  0.081731   \n",
       "604326      510    1196        1  32.0762  10.06180   800  75.0000  0.081731   \n",
       "604327      510    1197        1  32.1154  17.84500   800  75.0000  0.081731   \n",
       "604328      510    1198        1  32.1154  17.84500   800  75.0000  0.081731   \n",
       "\n",
       "         P6        P7  ...     V2   V3       V4  V5    V6  V7    V8  V9  V10  \\\n",
       "0       572  104.8950  ...  0.175  752  5.99375   0  2005   0  13.4   0    4   \n",
       "1       572  104.8950  ...  0.455  752  5.99375   0  2007   0  13.4   0    4   \n",
       "2       576  104.1670  ...  0.280  752  5.99375   0  2011   0  13.4   0    4   \n",
       "3       576  104.1670  ...  0.070  752  5.99375   0  2015   0  13.4   0    4   \n",
       "4       576  104.1670  ...  0.175  752  5.99375   0  2017   0  13.4   0    4   \n",
       "...     ...       ...  ...    ...  ...      ...  ..   ...  ..   ...  ..  ...   \n",
       "604324  680   88.2353  ...  0.280  240  3.01875   0  1801   0  30.4   0    4   \n",
       "604325  680   88.2353  ...  0.280  240  3.01875   0  1801   0  30.4   0    4   \n",
       "604326  680   88.2353  ...  0.175  240  3.01875   0  1800   0  31.3   0    4   \n",
       "604327  680   88.2353  ...  0.175  240  3.01875   0  1800   0  31.3   0    4   \n",
       "604328  680   88.2353  ...  0.175  240  3.01875   0  1800   0  31.3   0    4   \n",
       "\n",
       "            V11  \n",
       "0       14.8004  \n",
       "1       14.7729  \n",
       "2       14.7736  \n",
       "3       14.7667  \n",
       "4       14.7757  \n",
       "...         ...  \n",
       "604324  15.8113  \n",
       "604325  15.8018  \n",
       "604326  15.8120  \n",
       "604327  15.8270  \n",
       "604328  15.8270  \n",
       "\n",
       "[604329 rows x 33 columns]"
      ]
     },
     "execution_count": 11,
     "metadata": {},
     "output_type": "execute_result"
    }
   ],
   "source": [
    "original_data_set"
   ]
  },
  {
   "cell_type": "code",
   "execution_count": 12,
   "id": "5bd5f15e",
   "metadata": {},
   "outputs": [
    {
     "name": "stdout",
     "output_type": "stream",
     "text": [
      "<class 'pandas.core.frame.DataFrame'>\n",
      "RangeIndex: 604329 entries, 0 to 604328\n",
      "Data columns (total 33 columns):\n",
      " #   Column   Non-Null Count   Dtype  \n",
      "---  ------   --------------   -----  \n",
      " 0   TrialID  604329 non-null  int64  \n",
      " 1   ObsNum   604329 non-null  int64  \n",
      " 2   IsAlert  604329 non-null  int64  \n",
      " 3   P1       604329 non-null  float64\n",
      " 4   P2       604329 non-null  float64\n",
      " 5   P3       604329 non-null  int64  \n",
      " 6   P4       604329 non-null  float64\n",
      " 7   P5       604329 non-null  float64\n",
      " 8   P6       604329 non-null  int64  \n",
      " 9   P7       604329 non-null  float64\n",
      " 10  P8       604329 non-null  int64  \n",
      " 11  E1       604329 non-null  float64\n",
      " 12  E2       604329 non-null  float64\n",
      " 13  E3       604329 non-null  int64  \n",
      " 14  E4       604329 non-null  int64  \n",
      " 15  E5       604329 non-null  float64\n",
      " 16  E6       604329 non-null  int64  \n",
      " 17  E7       604329 non-null  int64  \n",
      " 18  E8       604329 non-null  int64  \n",
      " 19  E9       604329 non-null  int64  \n",
      " 20  E10      604329 non-null  int64  \n",
      " 21  E11      604329 non-null  float64\n",
      " 22  V1       604329 non-null  float64\n",
      " 23  V2       604329 non-null  float64\n",
      " 24  V3       604329 non-null  int64  \n",
      " 25  V4       604329 non-null  float64\n",
      " 26  V5       604329 non-null  int64  \n",
      " 27  V6       604329 non-null  int64  \n",
      " 28  V7       604329 non-null  int64  \n",
      " 29  V8       604329 non-null  float64\n",
      " 30  V9       604329 non-null  int64  \n",
      " 31  V10      604329 non-null  int64  \n",
      " 32  V11      604329 non-null  float64\n",
      "dtypes: float64(14), int64(19)\n",
      "memory usage: 152.2 MB\n"
     ]
    }
   ],
   "source": [
    "original_data_set.info()"
   ]
  },
  {
   "cell_type": "markdown",
   "id": "916f34f8",
   "metadata": {},
   "source": [
    "The dataset 604329 examples and 33 columns.P1,.....,P8 represent physiological data.E1,....,E11 represent environmental data.V1,....,V11 represent vehicular data.All columns are in numerical datatype.Our objective is to predict the target column\n",
    "IsAlert."
   ]
  },
  {
   "cell_type": "markdown",
   "id": "8cd61d9c",
   "metadata": {},
   "source": [
    "Then,using the well-trained model to predict the target column  IsAlert in the following test set."
   ]
  },
  {
   "cell_type": "code",
   "execution_count": 13,
   "id": "f0ae60ee",
   "metadata": {},
   "outputs": [],
   "source": [
    "testing_data_set = pd.read_csv('./stayalert/fordTest.csv')"
   ]
  },
  {
   "cell_type": "code",
   "execution_count": 14,
   "id": "6a9977b4",
   "metadata": {},
   "outputs": [
    {
     "data": {
      "text/html": [
       "<div>\n",
       "<style scoped>\n",
       "    .dataframe tbody tr th:only-of-type {\n",
       "        vertical-align: middle;\n",
       "    }\n",
       "\n",
       "    .dataframe tbody tr th {\n",
       "        vertical-align: top;\n",
       "    }\n",
       "\n",
       "    .dataframe thead th {\n",
       "        text-align: right;\n",
       "    }\n",
       "</style>\n",
       "<table border=\"1\" class=\"dataframe\">\n",
       "  <thead>\n",
       "    <tr style=\"text-align: right;\">\n",
       "      <th></th>\n",
       "      <th>TrialID</th>\n",
       "      <th>ObsNum</th>\n",
       "      <th>IsAlert</th>\n",
       "      <th>P1</th>\n",
       "      <th>P2</th>\n",
       "      <th>P3</th>\n",
       "      <th>P4</th>\n",
       "      <th>P5</th>\n",
       "      <th>P6</th>\n",
       "      <th>P7</th>\n",
       "      <th>...</th>\n",
       "      <th>V2</th>\n",
       "      <th>V3</th>\n",
       "      <th>V4</th>\n",
       "      <th>V5</th>\n",
       "      <th>V6</th>\n",
       "      <th>V7</th>\n",
       "      <th>V8</th>\n",
       "      <th>V9</th>\n",
       "      <th>V10</th>\n",
       "      <th>V11</th>\n",
       "    </tr>\n",
       "  </thead>\n",
       "  <tbody>\n",
       "    <tr>\n",
       "      <th>0</th>\n",
       "      <td>0</td>\n",
       "      <td>0</td>\n",
       "      <td>?</td>\n",
       "      <td>38.4294</td>\n",
       "      <td>10.94350</td>\n",
       "      <td>1000</td>\n",
       "      <td>60.0000</td>\n",
       "      <td>0.302277</td>\n",
       "      <td>508</td>\n",
       "      <td>118.1100</td>\n",
       "      <td>...</td>\n",
       "      <td>0.00</td>\n",
       "      <td>255</td>\n",
       "      <td>4.50625</td>\n",
       "      <td>0</td>\n",
       "      <td>2127</td>\n",
       "      <td>0</td>\n",
       "      <td>17.6</td>\n",
       "      <td>0</td>\n",
       "      <td>4</td>\n",
       "      <td>16.1937</td>\n",
       "    </tr>\n",
       "    <tr>\n",
       "      <th>1</th>\n",
       "      <td>0</td>\n",
       "      <td>1</td>\n",
       "      <td>?</td>\n",
       "      <td>38.3609</td>\n",
       "      <td>15.32120</td>\n",
       "      <td>1000</td>\n",
       "      <td>60.0000</td>\n",
       "      <td>0.302277</td>\n",
       "      <td>508</td>\n",
       "      <td>118.1100</td>\n",
       "      <td>...</td>\n",
       "      <td>0.00</td>\n",
       "      <td>255</td>\n",
       "      <td>4.50625</td>\n",
       "      <td>0</td>\n",
       "      <td>2127</td>\n",
       "      <td>0</td>\n",
       "      <td>17.6</td>\n",
       "      <td>0</td>\n",
       "      <td>4</td>\n",
       "      <td>16.1744</td>\n",
       "    </tr>\n",
       "    <tr>\n",
       "      <th>2</th>\n",
       "      <td>0</td>\n",
       "      <td>2</td>\n",
       "      <td>?</td>\n",
       "      <td>38.2342</td>\n",
       "      <td>11.51400</td>\n",
       "      <td>1000</td>\n",
       "      <td>60.0000</td>\n",
       "      <td>0.302277</td>\n",
       "      <td>508</td>\n",
       "      <td>118.1100</td>\n",
       "      <td>...</td>\n",
       "      <td>0.07</td>\n",
       "      <td>255</td>\n",
       "      <td>4.50625</td>\n",
       "      <td>0</td>\n",
       "      <td>2131</td>\n",
       "      <td>0</td>\n",
       "      <td>17.6</td>\n",
       "      <td>0</td>\n",
       "      <td>4</td>\n",
       "      <td>16.1602</td>\n",
       "    </tr>\n",
       "    <tr>\n",
       "      <th>3</th>\n",
       "      <td>0</td>\n",
       "      <td>3</td>\n",
       "      <td>?</td>\n",
       "      <td>37.9304</td>\n",
       "      <td>12.26150</td>\n",
       "      <td>1000</td>\n",
       "      <td>60.0000</td>\n",
       "      <td>0.302277</td>\n",
       "      <td>508</td>\n",
       "      <td>118.1100</td>\n",
       "      <td>...</td>\n",
       "      <td>0.07</td>\n",
       "      <td>255</td>\n",
       "      <td>4.50625</td>\n",
       "      <td>0</td>\n",
       "      <td>2131</td>\n",
       "      <td>0</td>\n",
       "      <td>17.6</td>\n",
       "      <td>0</td>\n",
       "      <td>4</td>\n",
       "      <td>16.1725</td>\n",
       "    </tr>\n",
       "    <tr>\n",
       "      <th>4</th>\n",
       "      <td>0</td>\n",
       "      <td>4</td>\n",
       "      <td>?</td>\n",
       "      <td>37.8085</td>\n",
       "      <td>12.36660</td>\n",
       "      <td>1000</td>\n",
       "      <td>60.0000</td>\n",
       "      <td>0.302277</td>\n",
       "      <td>504</td>\n",
       "      <td>119.0480</td>\n",
       "      <td>...</td>\n",
       "      <td>0.00</td>\n",
       "      <td>255</td>\n",
       "      <td>4.50625</td>\n",
       "      <td>0</td>\n",
       "      <td>2136</td>\n",
       "      <td>0</td>\n",
       "      <td>17.6</td>\n",
       "      <td>0</td>\n",
       "      <td>4</td>\n",
       "      <td>16.1459</td>\n",
       "    </tr>\n",
       "    <tr>\n",
       "      <th>...</th>\n",
       "      <td>...</td>\n",
       "      <td>...</td>\n",
       "      <td>...</td>\n",
       "      <td>...</td>\n",
       "      <td>...</td>\n",
       "      <td>...</td>\n",
       "      <td>...</td>\n",
       "      <td>...</td>\n",
       "      <td>...</td>\n",
       "      <td>...</td>\n",
       "      <td>...</td>\n",
       "      <td>...</td>\n",
       "      <td>...</td>\n",
       "      <td>...</td>\n",
       "      <td>...</td>\n",
       "      <td>...</td>\n",
       "      <td>...</td>\n",
       "      <td>...</td>\n",
       "      <td>...</td>\n",
       "      <td>...</td>\n",
       "      <td>...</td>\n",
       "    </tr>\n",
       "    <tr>\n",
       "      <th>120835</th>\n",
       "      <td>99</td>\n",
       "      <td>1206</td>\n",
       "      <td>?</td>\n",
       "      <td>37.3798</td>\n",
       "      <td>17.40260</td>\n",
       "      <td>892</td>\n",
       "      <td>67.2646</td>\n",
       "      <td>0.131030</td>\n",
       "      <td>752</td>\n",
       "      <td>79.7872</td>\n",
       "      <td>...</td>\n",
       "      <td>-0.07</td>\n",
       "      <td>255</td>\n",
       "      <td>0.00000</td>\n",
       "      <td>0</td>\n",
       "      <td>658</td>\n",
       "      <td>0</td>\n",
       "      <td>0.0</td>\n",
       "      <td>0</td>\n",
       "      <td>1</td>\n",
       "      <td>16.6850</td>\n",
       "    </tr>\n",
       "    <tr>\n",
       "      <th>120836</th>\n",
       "      <td>99</td>\n",
       "      <td>1207</td>\n",
       "      <td>?</td>\n",
       "      <td>37.1653</td>\n",
       "      <td>5.37419</td>\n",
       "      <td>892</td>\n",
       "      <td>67.2646</td>\n",
       "      <td>0.131030</td>\n",
       "      <td>752</td>\n",
       "      <td>79.7872</td>\n",
       "      <td>...</td>\n",
       "      <td>-0.07</td>\n",
       "      <td>255</td>\n",
       "      <td>0.00000</td>\n",
       "      <td>0</td>\n",
       "      <td>657</td>\n",
       "      <td>0</td>\n",
       "      <td>0.0</td>\n",
       "      <td>0</td>\n",
       "      <td>1</td>\n",
       "      <td>16.6840</td>\n",
       "    </tr>\n",
       "    <tr>\n",
       "      <th>120837</th>\n",
       "      <td>99</td>\n",
       "      <td>1208</td>\n",
       "      <td>?</td>\n",
       "      <td>36.9131</td>\n",
       "      <td>9.26657</td>\n",
       "      <td>892</td>\n",
       "      <td>67.2646</td>\n",
       "      <td>0.131030</td>\n",
       "      <td>752</td>\n",
       "      <td>79.7872</td>\n",
       "      <td>...</td>\n",
       "      <td>-0.07</td>\n",
       "      <td>255</td>\n",
       "      <td>0.00000</td>\n",
       "      <td>0</td>\n",
       "      <td>655</td>\n",
       "      <td>0</td>\n",
       "      <td>0.0</td>\n",
       "      <td>0</td>\n",
       "      <td>1</td>\n",
       "      <td>16.6487</td>\n",
       "    </tr>\n",
       "    <tr>\n",
       "      <th>120838</th>\n",
       "      <td>99</td>\n",
       "      <td>1209</td>\n",
       "      <td>?</td>\n",
       "      <td>36.6297</td>\n",
       "      <td>10.41710</td>\n",
       "      <td>892</td>\n",
       "      <td>67.2646</td>\n",
       "      <td>0.131030</td>\n",
       "      <td>752</td>\n",
       "      <td>79.7872</td>\n",
       "      <td>...</td>\n",
       "      <td>-0.07</td>\n",
       "      <td>240</td>\n",
       "      <td>0.00000</td>\n",
       "      <td>0</td>\n",
       "      <td>657</td>\n",
       "      <td>0</td>\n",
       "      <td>0.0</td>\n",
       "      <td>0</td>\n",
       "      <td>1</td>\n",
       "      <td>16.6314</td>\n",
       "    </tr>\n",
       "    <tr>\n",
       "      <th>120839</th>\n",
       "      <td>99</td>\n",
       "      <td>1210</td>\n",
       "      <td>?</td>\n",
       "      <td>36.6297</td>\n",
       "      <td>10.41710</td>\n",
       "      <td>892</td>\n",
       "      <td>67.2646</td>\n",
       "      <td>0.131030</td>\n",
       "      <td>752</td>\n",
       "      <td>79.7872</td>\n",
       "      <td>...</td>\n",
       "      <td>-0.07</td>\n",
       "      <td>240</td>\n",
       "      <td>0.00000</td>\n",
       "      <td>0</td>\n",
       "      <td>657</td>\n",
       "      <td>0</td>\n",
       "      <td>0.0</td>\n",
       "      <td>0</td>\n",
       "      <td>1</td>\n",
       "      <td>16.6314</td>\n",
       "    </tr>\n",
       "  </tbody>\n",
       "</table>\n",
       "<p>120840 rows × 33 columns</p>\n",
       "</div>"
      ],
      "text/plain": [
       "        TrialID  ObsNum IsAlert       P1        P2    P3       P4        P5  \\\n",
       "0             0       0       ?  38.4294  10.94350  1000  60.0000  0.302277   \n",
       "1             0       1       ?  38.3609  15.32120  1000  60.0000  0.302277   \n",
       "2             0       2       ?  38.2342  11.51400  1000  60.0000  0.302277   \n",
       "3             0       3       ?  37.9304  12.26150  1000  60.0000  0.302277   \n",
       "4             0       4       ?  37.8085  12.36660  1000  60.0000  0.302277   \n",
       "...         ...     ...     ...      ...       ...   ...      ...       ...   \n",
       "120835       99    1206       ?  37.3798  17.40260   892  67.2646  0.131030   \n",
       "120836       99    1207       ?  37.1653   5.37419   892  67.2646  0.131030   \n",
       "120837       99    1208       ?  36.9131   9.26657   892  67.2646  0.131030   \n",
       "120838       99    1209       ?  36.6297  10.41710   892  67.2646  0.131030   \n",
       "120839       99    1210       ?  36.6297  10.41710   892  67.2646  0.131030   \n",
       "\n",
       "         P6        P7  ...    V2   V3       V4  V5    V6  V7    V8  V9  V10  \\\n",
       "0       508  118.1100  ...  0.00  255  4.50625   0  2127   0  17.6   0    4   \n",
       "1       508  118.1100  ...  0.00  255  4.50625   0  2127   0  17.6   0    4   \n",
       "2       508  118.1100  ...  0.07  255  4.50625   0  2131   0  17.6   0    4   \n",
       "3       508  118.1100  ...  0.07  255  4.50625   0  2131   0  17.6   0    4   \n",
       "4       504  119.0480  ...  0.00  255  4.50625   0  2136   0  17.6   0    4   \n",
       "...     ...       ...  ...   ...  ...      ...  ..   ...  ..   ...  ..  ...   \n",
       "120835  752   79.7872  ... -0.07  255  0.00000   0   658   0   0.0   0    1   \n",
       "120836  752   79.7872  ... -0.07  255  0.00000   0   657   0   0.0   0    1   \n",
       "120837  752   79.7872  ... -0.07  255  0.00000   0   655   0   0.0   0    1   \n",
       "120838  752   79.7872  ... -0.07  240  0.00000   0   657   0   0.0   0    1   \n",
       "120839  752   79.7872  ... -0.07  240  0.00000   0   657   0   0.0   0    1   \n",
       "\n",
       "            V11  \n",
       "0       16.1937  \n",
       "1       16.1744  \n",
       "2       16.1602  \n",
       "3       16.1725  \n",
       "4       16.1459  \n",
       "...         ...  \n",
       "120835  16.6850  \n",
       "120836  16.6840  \n",
       "120837  16.6487  \n",
       "120838  16.6314  \n",
       "120839  16.6314  \n",
       "\n",
       "[120840 rows x 33 columns]"
      ]
     },
     "execution_count": 14,
     "metadata": {},
     "output_type": "execute_result"
    }
   ],
   "source": [
    "testing_data_set"
   ]
  },
  {
   "cell_type": "markdown",
   "id": "4e768bd0",
   "metadata": {},
   "source": [
    "## Training set and Validation set"
   ]
  },
  {
   "cell_type": "code",
   "execution_count": 15,
   "id": "fe6d8fd1",
   "metadata": {},
   "outputs": [],
   "source": [
    "# As the test set is provided,then we can split our original dataset into training set and validation set with 75% and 25% \n",
    "# of data respectively.\n",
    "# 510*0.75 = 382.5\n",
    "train_set = original_data_set[original_data_set['TrialID'] <= 382]\n",
    "valid_set = original_data_set[original_data_set['TrialID'] >= 383]"
   ]
  },
  {
   "cell_type": "code",
   "execution_count": 16,
   "id": "fa26e2af",
   "metadata": {},
   "outputs": [
    {
     "data": {
      "text/html": [
       "<div>\n",
       "<style scoped>\n",
       "    .dataframe tbody tr th:only-of-type {\n",
       "        vertical-align: middle;\n",
       "    }\n",
       "\n",
       "    .dataframe tbody tr th {\n",
       "        vertical-align: top;\n",
       "    }\n",
       "\n",
       "    .dataframe thead th {\n",
       "        text-align: right;\n",
       "    }\n",
       "</style>\n",
       "<table border=\"1\" class=\"dataframe\">\n",
       "  <thead>\n",
       "    <tr style=\"text-align: right;\">\n",
       "      <th></th>\n",
       "      <th>TrialID</th>\n",
       "      <th>ObsNum</th>\n",
       "      <th>IsAlert</th>\n",
       "      <th>P1</th>\n",
       "      <th>P2</th>\n",
       "      <th>P3</th>\n",
       "      <th>P4</th>\n",
       "      <th>P5</th>\n",
       "      <th>P6</th>\n",
       "      <th>P7</th>\n",
       "      <th>...</th>\n",
       "      <th>V2</th>\n",
       "      <th>V3</th>\n",
       "      <th>V4</th>\n",
       "      <th>V5</th>\n",
       "      <th>V6</th>\n",
       "      <th>V7</th>\n",
       "      <th>V8</th>\n",
       "      <th>V9</th>\n",
       "      <th>V10</th>\n",
       "      <th>V11</th>\n",
       "    </tr>\n",
       "  </thead>\n",
       "  <tbody>\n",
       "    <tr>\n",
       "      <th>0</th>\n",
       "      <td>0</td>\n",
       "      <td>0</td>\n",
       "      <td>0</td>\n",
       "      <td>34.7406</td>\n",
       "      <td>9.84593</td>\n",
       "      <td>1400</td>\n",
       "      <td>42.8571</td>\n",
       "      <td>0.290601</td>\n",
       "      <td>572</td>\n",
       "      <td>104.895</td>\n",
       "      <td>...</td>\n",
       "      <td>0.175</td>\n",
       "      <td>752</td>\n",
       "      <td>5.99375</td>\n",
       "      <td>0</td>\n",
       "      <td>2005</td>\n",
       "      <td>0</td>\n",
       "      <td>13.4</td>\n",
       "      <td>0</td>\n",
       "      <td>4</td>\n",
       "      <td>14.8004</td>\n",
       "    </tr>\n",
       "    <tr>\n",
       "      <th>1</th>\n",
       "      <td>0</td>\n",
       "      <td>1</td>\n",
       "      <td>0</td>\n",
       "      <td>34.4215</td>\n",
       "      <td>13.41120</td>\n",
       "      <td>1400</td>\n",
       "      <td>42.8571</td>\n",
       "      <td>0.290601</td>\n",
       "      <td>572</td>\n",
       "      <td>104.895</td>\n",
       "      <td>...</td>\n",
       "      <td>0.455</td>\n",
       "      <td>752</td>\n",
       "      <td>5.99375</td>\n",
       "      <td>0</td>\n",
       "      <td>2007</td>\n",
       "      <td>0</td>\n",
       "      <td>13.4</td>\n",
       "      <td>0</td>\n",
       "      <td>4</td>\n",
       "      <td>14.7729</td>\n",
       "    </tr>\n",
       "    <tr>\n",
       "      <th>2</th>\n",
       "      <td>0</td>\n",
       "      <td>2</td>\n",
       "      <td>0</td>\n",
       "      <td>34.3447</td>\n",
       "      <td>15.18520</td>\n",
       "      <td>1400</td>\n",
       "      <td>42.8571</td>\n",
       "      <td>0.290601</td>\n",
       "      <td>576</td>\n",
       "      <td>104.167</td>\n",
       "      <td>...</td>\n",
       "      <td>0.280</td>\n",
       "      <td>752</td>\n",
       "      <td>5.99375</td>\n",
       "      <td>0</td>\n",
       "      <td>2011</td>\n",
       "      <td>0</td>\n",
       "      <td>13.4</td>\n",
       "      <td>0</td>\n",
       "      <td>4</td>\n",
       "      <td>14.7736</td>\n",
       "    </tr>\n",
       "    <tr>\n",
       "      <th>3</th>\n",
       "      <td>0</td>\n",
       "      <td>3</td>\n",
       "      <td>0</td>\n",
       "      <td>34.3421</td>\n",
       "      <td>8.84696</td>\n",
       "      <td>1400</td>\n",
       "      <td>42.8571</td>\n",
       "      <td>0.290601</td>\n",
       "      <td>576</td>\n",
       "      <td>104.167</td>\n",
       "      <td>...</td>\n",
       "      <td>0.070</td>\n",
       "      <td>752</td>\n",
       "      <td>5.99375</td>\n",
       "      <td>0</td>\n",
       "      <td>2015</td>\n",
       "      <td>0</td>\n",
       "      <td>13.4</td>\n",
       "      <td>0</td>\n",
       "      <td>4</td>\n",
       "      <td>14.7667</td>\n",
       "    </tr>\n",
       "    <tr>\n",
       "      <th>4</th>\n",
       "      <td>0</td>\n",
       "      <td>4</td>\n",
       "      <td>0</td>\n",
       "      <td>34.3322</td>\n",
       "      <td>14.69940</td>\n",
       "      <td>1400</td>\n",
       "      <td>42.8571</td>\n",
       "      <td>0.290601</td>\n",
       "      <td>576</td>\n",
       "      <td>104.167</td>\n",
       "      <td>...</td>\n",
       "      <td>0.175</td>\n",
       "      <td>752</td>\n",
       "      <td>5.99375</td>\n",
       "      <td>0</td>\n",
       "      <td>2017</td>\n",
       "      <td>0</td>\n",
       "      <td>13.4</td>\n",
       "      <td>0</td>\n",
       "      <td>4</td>\n",
       "      <td>14.7757</td>\n",
       "    </tr>\n",
       "    <tr>\n",
       "      <th>...</th>\n",
       "      <td>...</td>\n",
       "      <td>...</td>\n",
       "      <td>...</td>\n",
       "      <td>...</td>\n",
       "      <td>...</td>\n",
       "      <td>...</td>\n",
       "      <td>...</td>\n",
       "      <td>...</td>\n",
       "      <td>...</td>\n",
       "      <td>...</td>\n",
       "      <td>...</td>\n",
       "      <td>...</td>\n",
       "      <td>...</td>\n",
       "      <td>...</td>\n",
       "      <td>...</td>\n",
       "      <td>...</td>\n",
       "      <td>...</td>\n",
       "      <td>...</td>\n",
       "      <td>...</td>\n",
       "      <td>...</td>\n",
       "      <td>...</td>\n",
       "    </tr>\n",
       "    <tr>\n",
       "      <th>462971</th>\n",
       "      <td>382</td>\n",
       "      <td>1206</td>\n",
       "      <td>0</td>\n",
       "      <td>35.6552</td>\n",
       "      <td>12.14500</td>\n",
       "      <td>844</td>\n",
       "      <td>71.0900</td>\n",
       "      <td>0.097299</td>\n",
       "      <td>588</td>\n",
       "      <td>102.041</td>\n",
       "      <td>...</td>\n",
       "      <td>-0.070</td>\n",
       "      <td>255</td>\n",
       "      <td>0.00000</td>\n",
       "      <td>1</td>\n",
       "      <td>792</td>\n",
       "      <td>0</td>\n",
       "      <td>0.0</td>\n",
       "      <td>0</td>\n",
       "      <td>1</td>\n",
       "      <td>10.9943</td>\n",
       "    </tr>\n",
       "    <tr>\n",
       "      <th>462972</th>\n",
       "      <td>382</td>\n",
       "      <td>1207</td>\n",
       "      <td>0</td>\n",
       "      <td>35.6152</td>\n",
       "      <td>11.66750</td>\n",
       "      <td>844</td>\n",
       "      <td>71.0900</td>\n",
       "      <td>0.097299</td>\n",
       "      <td>588</td>\n",
       "      <td>102.041</td>\n",
       "      <td>...</td>\n",
       "      <td>-0.070</td>\n",
       "      <td>255</td>\n",
       "      <td>0.00000</td>\n",
       "      <td>1</td>\n",
       "      <td>796</td>\n",
       "      <td>0</td>\n",
       "      <td>0.0</td>\n",
       "      <td>0</td>\n",
       "      <td>1</td>\n",
       "      <td>10.9945</td>\n",
       "    </tr>\n",
       "    <tr>\n",
       "      <th>462973</th>\n",
       "      <td>382</td>\n",
       "      <td>1208</td>\n",
       "      <td>0</td>\n",
       "      <td>35.5639</td>\n",
       "      <td>12.84220</td>\n",
       "      <td>808</td>\n",
       "      <td>74.2574</td>\n",
       "      <td>0.081731</td>\n",
       "      <td>588</td>\n",
       "      <td>102.041</td>\n",
       "      <td>...</td>\n",
       "      <td>-0.070</td>\n",
       "      <td>255</td>\n",
       "      <td>0.00000</td>\n",
       "      <td>1</td>\n",
       "      <td>792</td>\n",
       "      <td>0</td>\n",
       "      <td>0.0</td>\n",
       "      <td>0</td>\n",
       "      <td>1</td>\n",
       "      <td>10.9875</td>\n",
       "    </tr>\n",
       "    <tr>\n",
       "      <th>462974</th>\n",
       "      <td>382</td>\n",
       "      <td>1209</td>\n",
       "      <td>0</td>\n",
       "      <td>35.4743</td>\n",
       "      <td>16.16380</td>\n",
       "      <td>808</td>\n",
       "      <td>74.2574</td>\n",
       "      <td>0.081731</td>\n",
       "      <td>588</td>\n",
       "      <td>102.041</td>\n",
       "      <td>...</td>\n",
       "      <td>-0.070</td>\n",
       "      <td>255</td>\n",
       "      <td>0.00000</td>\n",
       "      <td>1</td>\n",
       "      <td>788</td>\n",
       "      <td>0</td>\n",
       "      <td>0.0</td>\n",
       "      <td>0</td>\n",
       "      <td>1</td>\n",
       "      <td>10.9877</td>\n",
       "    </tr>\n",
       "    <tr>\n",
       "      <th>462975</th>\n",
       "      <td>382</td>\n",
       "      <td>1210</td>\n",
       "      <td>0</td>\n",
       "      <td>35.4743</td>\n",
       "      <td>16.16380</td>\n",
       "      <td>808</td>\n",
       "      <td>74.2574</td>\n",
       "      <td>0.081731</td>\n",
       "      <td>588</td>\n",
       "      <td>102.041</td>\n",
       "      <td>...</td>\n",
       "      <td>-0.070</td>\n",
       "      <td>255</td>\n",
       "      <td>0.00000</td>\n",
       "      <td>1</td>\n",
       "      <td>788</td>\n",
       "      <td>0</td>\n",
       "      <td>0.0</td>\n",
       "      <td>0</td>\n",
       "      <td>1</td>\n",
       "      <td>10.9877</td>\n",
       "    </tr>\n",
       "  </tbody>\n",
       "</table>\n",
       "<p>462976 rows × 33 columns</p>\n",
       "</div>"
      ],
      "text/plain": [
       "        TrialID  ObsNum  IsAlert       P1        P2    P3       P4        P5  \\\n",
       "0             0       0        0  34.7406   9.84593  1400  42.8571  0.290601   \n",
       "1             0       1        0  34.4215  13.41120  1400  42.8571  0.290601   \n",
       "2             0       2        0  34.3447  15.18520  1400  42.8571  0.290601   \n",
       "3             0       3        0  34.3421   8.84696  1400  42.8571  0.290601   \n",
       "4             0       4        0  34.3322  14.69940  1400  42.8571  0.290601   \n",
       "...         ...     ...      ...      ...       ...   ...      ...       ...   \n",
       "462971      382    1206        0  35.6552  12.14500   844  71.0900  0.097299   \n",
       "462972      382    1207        0  35.6152  11.66750   844  71.0900  0.097299   \n",
       "462973      382    1208        0  35.5639  12.84220   808  74.2574  0.081731   \n",
       "462974      382    1209        0  35.4743  16.16380   808  74.2574  0.081731   \n",
       "462975      382    1210        0  35.4743  16.16380   808  74.2574  0.081731   \n",
       "\n",
       "         P6       P7  ...     V2   V3       V4  V5    V6  V7    V8  V9  V10  \\\n",
       "0       572  104.895  ...  0.175  752  5.99375   0  2005   0  13.4   0    4   \n",
       "1       572  104.895  ...  0.455  752  5.99375   0  2007   0  13.4   0    4   \n",
       "2       576  104.167  ...  0.280  752  5.99375   0  2011   0  13.4   0    4   \n",
       "3       576  104.167  ...  0.070  752  5.99375   0  2015   0  13.4   0    4   \n",
       "4       576  104.167  ...  0.175  752  5.99375   0  2017   0  13.4   0    4   \n",
       "...     ...      ...  ...    ...  ...      ...  ..   ...  ..   ...  ..  ...   \n",
       "462971  588  102.041  ... -0.070  255  0.00000   1   792   0   0.0   0    1   \n",
       "462972  588  102.041  ... -0.070  255  0.00000   1   796   0   0.0   0    1   \n",
       "462973  588  102.041  ... -0.070  255  0.00000   1   792   0   0.0   0    1   \n",
       "462974  588  102.041  ... -0.070  255  0.00000   1   788   0   0.0   0    1   \n",
       "462975  588  102.041  ... -0.070  255  0.00000   1   788   0   0.0   0    1   \n",
       "\n",
       "            V11  \n",
       "0       14.8004  \n",
       "1       14.7729  \n",
       "2       14.7736  \n",
       "3       14.7667  \n",
       "4       14.7757  \n",
       "...         ...  \n",
       "462971  10.9943  \n",
       "462972  10.9945  \n",
       "462973  10.9875  \n",
       "462974  10.9877  \n",
       "462975  10.9877  \n",
       "\n",
       "[462976 rows x 33 columns]"
      ]
     },
     "execution_count": 16,
     "metadata": {},
     "output_type": "execute_result"
    }
   ],
   "source": [
    "train_set"
   ]
  },
  {
   "cell_type": "code",
   "execution_count": 17,
   "id": "385b0299",
   "metadata": {},
   "outputs": [
    {
     "data": {
      "text/html": [
       "<div>\n",
       "<style scoped>\n",
       "    .dataframe tbody tr th:only-of-type {\n",
       "        vertical-align: middle;\n",
       "    }\n",
       "\n",
       "    .dataframe tbody tr th {\n",
       "        vertical-align: top;\n",
       "    }\n",
       "\n",
       "    .dataframe thead th {\n",
       "        text-align: right;\n",
       "    }\n",
       "</style>\n",
       "<table border=\"1\" class=\"dataframe\">\n",
       "  <thead>\n",
       "    <tr style=\"text-align: right;\">\n",
       "      <th></th>\n",
       "      <th>TrialID</th>\n",
       "      <th>ObsNum</th>\n",
       "      <th>IsAlert</th>\n",
       "      <th>P1</th>\n",
       "      <th>P2</th>\n",
       "      <th>P3</th>\n",
       "      <th>P4</th>\n",
       "      <th>P5</th>\n",
       "      <th>P6</th>\n",
       "      <th>P7</th>\n",
       "      <th>...</th>\n",
       "      <th>V2</th>\n",
       "      <th>V3</th>\n",
       "      <th>V4</th>\n",
       "      <th>V5</th>\n",
       "      <th>V6</th>\n",
       "      <th>V7</th>\n",
       "      <th>V8</th>\n",
       "      <th>V9</th>\n",
       "      <th>V10</th>\n",
       "      <th>V11</th>\n",
       "    </tr>\n",
       "  </thead>\n",
       "  <tbody>\n",
       "    <tr>\n",
       "      <th>462976</th>\n",
       "      <td>383</td>\n",
       "      <td>0</td>\n",
       "      <td>0</td>\n",
       "      <td>35.4199</td>\n",
       "      <td>7.38627</td>\n",
       "      <td>808</td>\n",
       "      <td>74.2574</td>\n",
       "      <td>0.081731</td>\n",
       "      <td>576</td>\n",
       "      <td>104.1670</td>\n",
       "      <td>...</td>\n",
       "      <td>-0.070</td>\n",
       "      <td>255</td>\n",
       "      <td>0.00000</td>\n",
       "      <td>1</td>\n",
       "      <td>787</td>\n",
       "      <td>0</td>\n",
       "      <td>0.0</td>\n",
       "      <td>0</td>\n",
       "      <td>1</td>\n",
       "      <td>10.9854</td>\n",
       "    </tr>\n",
       "    <tr>\n",
       "      <th>462977</th>\n",
       "      <td>383</td>\n",
       "      <td>1</td>\n",
       "      <td>0</td>\n",
       "      <td>35.3158</td>\n",
       "      <td>11.24800</td>\n",
       "      <td>808</td>\n",
       "      <td>74.2574</td>\n",
       "      <td>0.081731</td>\n",
       "      <td>576</td>\n",
       "      <td>104.1670</td>\n",
       "      <td>...</td>\n",
       "      <td>-0.070</td>\n",
       "      <td>255</td>\n",
       "      <td>0.00000</td>\n",
       "      <td>1</td>\n",
       "      <td>792</td>\n",
       "      <td>0</td>\n",
       "      <td>0.0</td>\n",
       "      <td>0</td>\n",
       "      <td>1</td>\n",
       "      <td>10.9641</td>\n",
       "    </tr>\n",
       "    <tr>\n",
       "      <th>462978</th>\n",
       "      <td>383</td>\n",
       "      <td>2</td>\n",
       "      <td>0</td>\n",
       "      <td>35.2346</td>\n",
       "      <td>11.98300</td>\n",
       "      <td>808</td>\n",
       "      <td>74.2574</td>\n",
       "      <td>0.081731</td>\n",
       "      <td>576</td>\n",
       "      <td>104.1670</td>\n",
       "      <td>...</td>\n",
       "      <td>-0.070</td>\n",
       "      <td>255</td>\n",
       "      <td>0.00000</td>\n",
       "      <td>1</td>\n",
       "      <td>793</td>\n",
       "      <td>0</td>\n",
       "      <td>0.0</td>\n",
       "      <td>0</td>\n",
       "      <td>1</td>\n",
       "      <td>10.9859</td>\n",
       "    </tr>\n",
       "    <tr>\n",
       "      <th>462979</th>\n",
       "      <td>383</td>\n",
       "      <td>3</td>\n",
       "      <td>0</td>\n",
       "      <td>35.1370</td>\n",
       "      <td>11.41180</td>\n",
       "      <td>808</td>\n",
       "      <td>74.2574</td>\n",
       "      <td>0.081731</td>\n",
       "      <td>576</td>\n",
       "      <td>104.1670</td>\n",
       "      <td>...</td>\n",
       "      <td>-0.070</td>\n",
       "      <td>255</td>\n",
       "      <td>0.00000</td>\n",
       "      <td>1</td>\n",
       "      <td>797</td>\n",
       "      <td>0</td>\n",
       "      <td>0.0</td>\n",
       "      <td>0</td>\n",
       "      <td>1</td>\n",
       "      <td>10.9759</td>\n",
       "    </tr>\n",
       "    <tr>\n",
       "      <th>462980</th>\n",
       "      <td>383</td>\n",
       "      <td>4</td>\n",
       "      <td>0</td>\n",
       "      <td>35.0198</td>\n",
       "      <td>12.32660</td>\n",
       "      <td>808</td>\n",
       "      <td>74.2574</td>\n",
       "      <td>0.081731</td>\n",
       "      <td>576</td>\n",
       "      <td>104.1670</td>\n",
       "      <td>...</td>\n",
       "      <td>-0.070</td>\n",
       "      <td>255</td>\n",
       "      <td>0.00000</td>\n",
       "      <td>1</td>\n",
       "      <td>797</td>\n",
       "      <td>0</td>\n",
       "      <td>0.0</td>\n",
       "      <td>0</td>\n",
       "      <td>1</td>\n",
       "      <td>10.9710</td>\n",
       "    </tr>\n",
       "    <tr>\n",
       "      <th>...</th>\n",
       "      <td>...</td>\n",
       "      <td>...</td>\n",
       "      <td>...</td>\n",
       "      <td>...</td>\n",
       "      <td>...</td>\n",
       "      <td>...</td>\n",
       "      <td>...</td>\n",
       "      <td>...</td>\n",
       "      <td>...</td>\n",
       "      <td>...</td>\n",
       "      <td>...</td>\n",
       "      <td>...</td>\n",
       "      <td>...</td>\n",
       "      <td>...</td>\n",
       "      <td>...</td>\n",
       "      <td>...</td>\n",
       "      <td>...</td>\n",
       "      <td>...</td>\n",
       "      <td>...</td>\n",
       "      <td>...</td>\n",
       "      <td>...</td>\n",
       "    </tr>\n",
       "    <tr>\n",
       "      <th>604324</th>\n",
       "      <td>510</td>\n",
       "      <td>1194</td>\n",
       "      <td>1</td>\n",
       "      <td>32.0051</td>\n",
       "      <td>10.13240</td>\n",
       "      <td>800</td>\n",
       "      <td>75.0000</td>\n",
       "      <td>0.081731</td>\n",
       "      <td>680</td>\n",
       "      <td>88.2353</td>\n",
       "      <td>...</td>\n",
       "      <td>0.280</td>\n",
       "      <td>240</td>\n",
       "      <td>3.01875</td>\n",
       "      <td>0</td>\n",
       "      <td>1801</td>\n",
       "      <td>0</td>\n",
       "      <td>30.4</td>\n",
       "      <td>0</td>\n",
       "      <td>4</td>\n",
       "      <td>15.8113</td>\n",
       "    </tr>\n",
       "    <tr>\n",
       "      <th>604325</th>\n",
       "      <td>510</td>\n",
       "      <td>1195</td>\n",
       "      <td>1</td>\n",
       "      <td>32.0393</td>\n",
       "      <td>12.45040</td>\n",
       "      <td>800</td>\n",
       "      <td>75.0000</td>\n",
       "      <td>0.081731</td>\n",
       "      <td>680</td>\n",
       "      <td>88.2353</td>\n",
       "      <td>...</td>\n",
       "      <td>0.280</td>\n",
       "      <td>240</td>\n",
       "      <td>3.01875</td>\n",
       "      <td>0</td>\n",
       "      <td>1801</td>\n",
       "      <td>0</td>\n",
       "      <td>30.4</td>\n",
       "      <td>0</td>\n",
       "      <td>4</td>\n",
       "      <td>15.8018</td>\n",
       "    </tr>\n",
       "    <tr>\n",
       "      <th>604326</th>\n",
       "      <td>510</td>\n",
       "      <td>1196</td>\n",
       "      <td>1</td>\n",
       "      <td>32.0762</td>\n",
       "      <td>10.06180</td>\n",
       "      <td>800</td>\n",
       "      <td>75.0000</td>\n",
       "      <td>0.081731</td>\n",
       "      <td>680</td>\n",
       "      <td>88.2353</td>\n",
       "      <td>...</td>\n",
       "      <td>0.175</td>\n",
       "      <td>240</td>\n",
       "      <td>3.01875</td>\n",
       "      <td>0</td>\n",
       "      <td>1800</td>\n",
       "      <td>0</td>\n",
       "      <td>31.3</td>\n",
       "      <td>0</td>\n",
       "      <td>4</td>\n",
       "      <td>15.8120</td>\n",
       "    </tr>\n",
       "    <tr>\n",
       "      <th>604327</th>\n",
       "      <td>510</td>\n",
       "      <td>1197</td>\n",
       "      <td>1</td>\n",
       "      <td>32.1154</td>\n",
       "      <td>17.84500</td>\n",
       "      <td>800</td>\n",
       "      <td>75.0000</td>\n",
       "      <td>0.081731</td>\n",
       "      <td>680</td>\n",
       "      <td>88.2353</td>\n",
       "      <td>...</td>\n",
       "      <td>0.175</td>\n",
       "      <td>240</td>\n",
       "      <td>3.01875</td>\n",
       "      <td>0</td>\n",
       "      <td>1800</td>\n",
       "      <td>0</td>\n",
       "      <td>31.3</td>\n",
       "      <td>0</td>\n",
       "      <td>4</td>\n",
       "      <td>15.8270</td>\n",
       "    </tr>\n",
       "    <tr>\n",
       "      <th>604328</th>\n",
       "      <td>510</td>\n",
       "      <td>1198</td>\n",
       "      <td>1</td>\n",
       "      <td>32.1154</td>\n",
       "      <td>17.84500</td>\n",
       "      <td>800</td>\n",
       "      <td>75.0000</td>\n",
       "      <td>0.081731</td>\n",
       "      <td>680</td>\n",
       "      <td>88.2353</td>\n",
       "      <td>...</td>\n",
       "      <td>0.175</td>\n",
       "      <td>240</td>\n",
       "      <td>3.01875</td>\n",
       "      <td>0</td>\n",
       "      <td>1800</td>\n",
       "      <td>0</td>\n",
       "      <td>31.3</td>\n",
       "      <td>0</td>\n",
       "      <td>4</td>\n",
       "      <td>15.8270</td>\n",
       "    </tr>\n",
       "  </tbody>\n",
       "</table>\n",
       "<p>141353 rows × 33 columns</p>\n",
       "</div>"
      ],
      "text/plain": [
       "        TrialID  ObsNum  IsAlert       P1        P2   P3       P4        P5  \\\n",
       "462976      383       0        0  35.4199   7.38627  808  74.2574  0.081731   \n",
       "462977      383       1        0  35.3158  11.24800  808  74.2574  0.081731   \n",
       "462978      383       2        0  35.2346  11.98300  808  74.2574  0.081731   \n",
       "462979      383       3        0  35.1370  11.41180  808  74.2574  0.081731   \n",
       "462980      383       4        0  35.0198  12.32660  808  74.2574  0.081731   \n",
       "...         ...     ...      ...      ...       ...  ...      ...       ...   \n",
       "604324      510    1194        1  32.0051  10.13240  800  75.0000  0.081731   \n",
       "604325      510    1195        1  32.0393  12.45040  800  75.0000  0.081731   \n",
       "604326      510    1196        1  32.0762  10.06180  800  75.0000  0.081731   \n",
       "604327      510    1197        1  32.1154  17.84500  800  75.0000  0.081731   \n",
       "604328      510    1198        1  32.1154  17.84500  800  75.0000  0.081731   \n",
       "\n",
       "         P6        P7  ...     V2   V3       V4  V5    V6  V7    V8  V9  V10  \\\n",
       "462976  576  104.1670  ... -0.070  255  0.00000   1   787   0   0.0   0    1   \n",
       "462977  576  104.1670  ... -0.070  255  0.00000   1   792   0   0.0   0    1   \n",
       "462978  576  104.1670  ... -0.070  255  0.00000   1   793   0   0.0   0    1   \n",
       "462979  576  104.1670  ... -0.070  255  0.00000   1   797   0   0.0   0    1   \n",
       "462980  576  104.1670  ... -0.070  255  0.00000   1   797   0   0.0   0    1   \n",
       "...     ...       ...  ...    ...  ...      ...  ..   ...  ..   ...  ..  ...   \n",
       "604324  680   88.2353  ...  0.280  240  3.01875   0  1801   0  30.4   0    4   \n",
       "604325  680   88.2353  ...  0.280  240  3.01875   0  1801   0  30.4   0    4   \n",
       "604326  680   88.2353  ...  0.175  240  3.01875   0  1800   0  31.3   0    4   \n",
       "604327  680   88.2353  ...  0.175  240  3.01875   0  1800   0  31.3   0    4   \n",
       "604328  680   88.2353  ...  0.175  240  3.01875   0  1800   0  31.3   0    4   \n",
       "\n",
       "            V11  \n",
       "462976  10.9854  \n",
       "462977  10.9641  \n",
       "462978  10.9859  \n",
       "462979  10.9759  \n",
       "462980  10.9710  \n",
       "...         ...  \n",
       "604324  15.8113  \n",
       "604325  15.8018  \n",
       "604326  15.8120  \n",
       "604327  15.8270  \n",
       "604328  15.8270  \n",
       "\n",
       "[141353 rows x 33 columns]"
      ]
     },
     "execution_count": 17,
     "metadata": {},
     "output_type": "execute_result"
    }
   ],
   "source": [
    "valid_set"
   ]
  },
  {
   "cell_type": "markdown",
   "id": "c97b7f92",
   "metadata": {},
   "source": [
    "## Input and Target columns\n"
   ]
  },
  {
   "cell_type": "code",
   "execution_count": 18,
   "id": "8ea0bbc9",
   "metadata": {},
   "outputs": [
    {
     "data": {
      "text/plain": [
       "['P1',\n",
       " 'P2',\n",
       " 'P3',\n",
       " 'P4',\n",
       " 'P5',\n",
       " 'P6',\n",
       " 'P7',\n",
       " 'P8',\n",
       " 'E1',\n",
       " 'E2',\n",
       " 'E3',\n",
       " 'E4',\n",
       " 'E5',\n",
       " 'E6',\n",
       " 'E7',\n",
       " 'E8',\n",
       " 'E9',\n",
       " 'E10',\n",
       " 'E11',\n",
       " 'V1',\n",
       " 'V2',\n",
       " 'V3',\n",
       " 'V4',\n",
       " 'V5',\n",
       " 'V6',\n",
       " 'V7',\n",
       " 'V8',\n",
       " 'V9',\n",
       " 'V10',\n",
       " 'V11']"
      ]
     },
     "execution_count": 18,
     "metadata": {},
     "output_type": "execute_result"
    }
   ],
   "source": [
    "# just pick out the physiological,environmental and vehicular features.\n",
    "input_cols= list(original_data_set.columns)[3:]\n",
    "input_cols"
   ]
  },
  {
   "cell_type": "code",
   "execution_count": 19,
   "id": "6cec8af6",
   "metadata": {},
   "outputs": [],
   "source": [
    "target_col = 'IsAlert'"
   ]
  },
  {
   "cell_type": "markdown",
   "id": "2ccd7bcc",
   "metadata": {},
   "source": [
    "## Using input_cols and target_col to simplify the training set and validation set"
   ]
  },
  {
   "cell_type": "code",
   "execution_count": 20,
   "id": "f631dbbb",
   "metadata": {},
   "outputs": [],
   "source": [
    "train_input = train_set[input_cols].copy()\n",
    "val_input = valid_set[input_cols].copy()"
   ]
  },
  {
   "cell_type": "code",
   "execution_count": 21,
   "id": "d89736d5",
   "metadata": {},
   "outputs": [],
   "source": [
    "train_target = train_set[target_col].copy()\n",
    "val_target = valid_set[target_col].copy()"
   ]
  },
  {
   "cell_type": "code",
   "execution_count": 22,
   "id": "74fcb109",
   "metadata": {},
   "outputs": [
    {
     "data": {
      "text/html": [
       "<div>\n",
       "<style scoped>\n",
       "    .dataframe tbody tr th:only-of-type {\n",
       "        vertical-align: middle;\n",
       "    }\n",
       "\n",
       "    .dataframe tbody tr th {\n",
       "        vertical-align: top;\n",
       "    }\n",
       "\n",
       "    .dataframe thead th {\n",
       "        text-align: right;\n",
       "    }\n",
       "</style>\n",
       "<table border=\"1\" class=\"dataframe\">\n",
       "  <thead>\n",
       "    <tr style=\"text-align: right;\">\n",
       "      <th></th>\n",
       "      <th>P1</th>\n",
       "      <th>P2</th>\n",
       "      <th>P3</th>\n",
       "      <th>P4</th>\n",
       "      <th>P5</th>\n",
       "      <th>P6</th>\n",
       "      <th>P7</th>\n",
       "      <th>P8</th>\n",
       "      <th>E1</th>\n",
       "      <th>E2</th>\n",
       "      <th>...</th>\n",
       "      <th>V2</th>\n",
       "      <th>V3</th>\n",
       "      <th>V4</th>\n",
       "      <th>V5</th>\n",
       "      <th>V6</th>\n",
       "      <th>V7</th>\n",
       "      <th>V8</th>\n",
       "      <th>V9</th>\n",
       "      <th>V10</th>\n",
       "      <th>V11</th>\n",
       "    </tr>\n",
       "  </thead>\n",
       "  <tbody>\n",
       "    <tr>\n",
       "      <th>0</th>\n",
       "      <td>34.7406</td>\n",
       "      <td>9.84593</td>\n",
       "      <td>1400</td>\n",
       "      <td>42.8571</td>\n",
       "      <td>0.290601</td>\n",
       "      <td>572</td>\n",
       "      <td>104.895</td>\n",
       "      <td>0</td>\n",
       "      <td>0.000</td>\n",
       "      <td>0.00</td>\n",
       "      <td>...</td>\n",
       "      <td>0.175</td>\n",
       "      <td>752</td>\n",
       "      <td>5.99375</td>\n",
       "      <td>0</td>\n",
       "      <td>2005</td>\n",
       "      <td>0</td>\n",
       "      <td>13.4</td>\n",
       "      <td>0</td>\n",
       "      <td>4</td>\n",
       "      <td>14.8004</td>\n",
       "    </tr>\n",
       "    <tr>\n",
       "      <th>1</th>\n",
       "      <td>34.4215</td>\n",
       "      <td>13.41120</td>\n",
       "      <td>1400</td>\n",
       "      <td>42.8571</td>\n",
       "      <td>0.290601</td>\n",
       "      <td>572</td>\n",
       "      <td>104.895</td>\n",
       "      <td>0</td>\n",
       "      <td>0.000</td>\n",
       "      <td>0.00</td>\n",
       "      <td>...</td>\n",
       "      <td>0.455</td>\n",
       "      <td>752</td>\n",
       "      <td>5.99375</td>\n",
       "      <td>0</td>\n",
       "      <td>2007</td>\n",
       "      <td>0</td>\n",
       "      <td>13.4</td>\n",
       "      <td>0</td>\n",
       "      <td>4</td>\n",
       "      <td>14.7729</td>\n",
       "    </tr>\n",
       "    <tr>\n",
       "      <th>2</th>\n",
       "      <td>34.3447</td>\n",
       "      <td>15.18520</td>\n",
       "      <td>1400</td>\n",
       "      <td>42.8571</td>\n",
       "      <td>0.290601</td>\n",
       "      <td>576</td>\n",
       "      <td>104.167</td>\n",
       "      <td>0</td>\n",
       "      <td>0.000</td>\n",
       "      <td>0.00</td>\n",
       "      <td>...</td>\n",
       "      <td>0.280</td>\n",
       "      <td>752</td>\n",
       "      <td>5.99375</td>\n",
       "      <td>0</td>\n",
       "      <td>2011</td>\n",
       "      <td>0</td>\n",
       "      <td>13.4</td>\n",
       "      <td>0</td>\n",
       "      <td>4</td>\n",
       "      <td>14.7736</td>\n",
       "    </tr>\n",
       "    <tr>\n",
       "      <th>3</th>\n",
       "      <td>34.3421</td>\n",
       "      <td>8.84696</td>\n",
       "      <td>1400</td>\n",
       "      <td>42.8571</td>\n",
       "      <td>0.290601</td>\n",
       "      <td>576</td>\n",
       "      <td>104.167</td>\n",
       "      <td>0</td>\n",
       "      <td>0.000</td>\n",
       "      <td>0.00</td>\n",
       "      <td>...</td>\n",
       "      <td>0.070</td>\n",
       "      <td>752</td>\n",
       "      <td>5.99375</td>\n",
       "      <td>0</td>\n",
       "      <td>2015</td>\n",
       "      <td>0</td>\n",
       "      <td>13.4</td>\n",
       "      <td>0</td>\n",
       "      <td>4</td>\n",
       "      <td>14.7667</td>\n",
       "    </tr>\n",
       "    <tr>\n",
       "      <th>4</th>\n",
       "      <td>34.3322</td>\n",
       "      <td>14.69940</td>\n",
       "      <td>1400</td>\n",
       "      <td>42.8571</td>\n",
       "      <td>0.290601</td>\n",
       "      <td>576</td>\n",
       "      <td>104.167</td>\n",
       "      <td>0</td>\n",
       "      <td>0.000</td>\n",
       "      <td>0.00</td>\n",
       "      <td>...</td>\n",
       "      <td>0.175</td>\n",
       "      <td>752</td>\n",
       "      <td>5.99375</td>\n",
       "      <td>0</td>\n",
       "      <td>2017</td>\n",
       "      <td>0</td>\n",
       "      <td>13.4</td>\n",
       "      <td>0</td>\n",
       "      <td>4</td>\n",
       "      <td>14.7757</td>\n",
       "    </tr>\n",
       "    <tr>\n",
       "      <th>...</th>\n",
       "      <td>...</td>\n",
       "      <td>...</td>\n",
       "      <td>...</td>\n",
       "      <td>...</td>\n",
       "      <td>...</td>\n",
       "      <td>...</td>\n",
       "      <td>...</td>\n",
       "      <td>...</td>\n",
       "      <td>...</td>\n",
       "      <td>...</td>\n",
       "      <td>...</td>\n",
       "      <td>...</td>\n",
       "      <td>...</td>\n",
       "      <td>...</td>\n",
       "      <td>...</td>\n",
       "      <td>...</td>\n",
       "      <td>...</td>\n",
       "      <td>...</td>\n",
       "      <td>...</td>\n",
       "      <td>...</td>\n",
       "      <td>...</td>\n",
       "    </tr>\n",
       "    <tr>\n",
       "      <th>462971</th>\n",
       "      <td>35.6552</td>\n",
       "      <td>12.14500</td>\n",
       "      <td>844</td>\n",
       "      <td>71.0900</td>\n",
       "      <td>0.097299</td>\n",
       "      <td>588</td>\n",
       "      <td>102.041</td>\n",
       "      <td>0</td>\n",
       "      <td>0.011</td>\n",
       "      <td>107.89</td>\n",
       "      <td>...</td>\n",
       "      <td>-0.070</td>\n",
       "      <td>255</td>\n",
       "      <td>0.00000</td>\n",
       "      <td>1</td>\n",
       "      <td>792</td>\n",
       "      <td>0</td>\n",
       "      <td>0.0</td>\n",
       "      <td>0</td>\n",
       "      <td>1</td>\n",
       "      <td>10.9943</td>\n",
       "    </tr>\n",
       "    <tr>\n",
       "      <th>462972</th>\n",
       "      <td>35.6152</td>\n",
       "      <td>11.66750</td>\n",
       "      <td>844</td>\n",
       "      <td>71.0900</td>\n",
       "      <td>0.097299</td>\n",
       "      <td>588</td>\n",
       "      <td>102.041</td>\n",
       "      <td>0</td>\n",
       "      <td>0.011</td>\n",
       "      <td>107.89</td>\n",
       "      <td>...</td>\n",
       "      <td>-0.070</td>\n",
       "      <td>255</td>\n",
       "      <td>0.00000</td>\n",
       "      <td>1</td>\n",
       "      <td>796</td>\n",
       "      <td>0</td>\n",
       "      <td>0.0</td>\n",
       "      <td>0</td>\n",
       "      <td>1</td>\n",
       "      <td>10.9945</td>\n",
       "    </tr>\n",
       "    <tr>\n",
       "      <th>462973</th>\n",
       "      <td>35.5639</td>\n",
       "      <td>12.84220</td>\n",
       "      <td>808</td>\n",
       "      <td>74.2574</td>\n",
       "      <td>0.081731</td>\n",
       "      <td>588</td>\n",
       "      <td>102.041</td>\n",
       "      <td>0</td>\n",
       "      <td>0.011</td>\n",
       "      <td>107.89</td>\n",
       "      <td>...</td>\n",
       "      <td>-0.070</td>\n",
       "      <td>255</td>\n",
       "      <td>0.00000</td>\n",
       "      <td>1</td>\n",
       "      <td>792</td>\n",
       "      <td>0</td>\n",
       "      <td>0.0</td>\n",
       "      <td>0</td>\n",
       "      <td>1</td>\n",
       "      <td>10.9875</td>\n",
       "    </tr>\n",
       "    <tr>\n",
       "      <th>462974</th>\n",
       "      <td>35.4743</td>\n",
       "      <td>16.16380</td>\n",
       "      <td>808</td>\n",
       "      <td>74.2574</td>\n",
       "      <td>0.081731</td>\n",
       "      <td>588</td>\n",
       "      <td>102.041</td>\n",
       "      <td>0</td>\n",
       "      <td>0.011</td>\n",
       "      <td>107.89</td>\n",
       "      <td>...</td>\n",
       "      <td>-0.070</td>\n",
       "      <td>255</td>\n",
       "      <td>0.00000</td>\n",
       "      <td>1</td>\n",
       "      <td>788</td>\n",
       "      <td>0</td>\n",
       "      <td>0.0</td>\n",
       "      <td>0</td>\n",
       "      <td>1</td>\n",
       "      <td>10.9877</td>\n",
       "    </tr>\n",
       "    <tr>\n",
       "      <th>462975</th>\n",
       "      <td>35.4743</td>\n",
       "      <td>16.16380</td>\n",
       "      <td>808</td>\n",
       "      <td>74.2574</td>\n",
       "      <td>0.081731</td>\n",
       "      <td>588</td>\n",
       "      <td>102.041</td>\n",
       "      <td>0</td>\n",
       "      <td>0.011</td>\n",
       "      <td>107.89</td>\n",
       "      <td>...</td>\n",
       "      <td>-0.070</td>\n",
       "      <td>255</td>\n",
       "      <td>0.00000</td>\n",
       "      <td>1</td>\n",
       "      <td>788</td>\n",
       "      <td>0</td>\n",
       "      <td>0.0</td>\n",
       "      <td>0</td>\n",
       "      <td>1</td>\n",
       "      <td>10.9877</td>\n",
       "    </tr>\n",
       "  </tbody>\n",
       "</table>\n",
       "<p>462976 rows × 30 columns</p>\n",
       "</div>"
      ],
      "text/plain": [
       "             P1        P2    P3       P4        P5   P6       P7  P8     E1  \\\n",
       "0       34.7406   9.84593  1400  42.8571  0.290601  572  104.895   0  0.000   \n",
       "1       34.4215  13.41120  1400  42.8571  0.290601  572  104.895   0  0.000   \n",
       "2       34.3447  15.18520  1400  42.8571  0.290601  576  104.167   0  0.000   \n",
       "3       34.3421   8.84696  1400  42.8571  0.290601  576  104.167   0  0.000   \n",
       "4       34.3322  14.69940  1400  42.8571  0.290601  576  104.167   0  0.000   \n",
       "...         ...       ...   ...      ...       ...  ...      ...  ..    ...   \n",
       "462971  35.6552  12.14500   844  71.0900  0.097299  588  102.041   0  0.011   \n",
       "462972  35.6152  11.66750   844  71.0900  0.097299  588  102.041   0  0.011   \n",
       "462973  35.5639  12.84220   808  74.2574  0.081731  588  102.041   0  0.011   \n",
       "462974  35.4743  16.16380   808  74.2574  0.081731  588  102.041   0  0.011   \n",
       "462975  35.4743  16.16380   808  74.2574  0.081731  588  102.041   0  0.011   \n",
       "\n",
       "            E2  ...     V2   V3       V4  V5    V6  V7    V8  V9  V10      V11  \n",
       "0         0.00  ...  0.175  752  5.99375   0  2005   0  13.4   0    4  14.8004  \n",
       "1         0.00  ...  0.455  752  5.99375   0  2007   0  13.4   0    4  14.7729  \n",
       "2         0.00  ...  0.280  752  5.99375   0  2011   0  13.4   0    4  14.7736  \n",
       "3         0.00  ...  0.070  752  5.99375   0  2015   0  13.4   0    4  14.7667  \n",
       "4         0.00  ...  0.175  752  5.99375   0  2017   0  13.4   0    4  14.7757  \n",
       "...        ...  ...    ...  ...      ...  ..   ...  ..   ...  ..  ...      ...  \n",
       "462971  107.89  ... -0.070  255  0.00000   1   792   0   0.0   0    1  10.9943  \n",
       "462972  107.89  ... -0.070  255  0.00000   1   796   0   0.0   0    1  10.9945  \n",
       "462973  107.89  ... -0.070  255  0.00000   1   792   0   0.0   0    1  10.9875  \n",
       "462974  107.89  ... -0.070  255  0.00000   1   788   0   0.0   0    1  10.9877  \n",
       "462975  107.89  ... -0.070  255  0.00000   1   788   0   0.0   0    1  10.9877  \n",
       "\n",
       "[462976 rows x 30 columns]"
      ]
     },
     "execution_count": 22,
     "metadata": {},
     "output_type": "execute_result"
    }
   ],
   "source": [
    "train_input"
   ]
  },
  {
   "cell_type": "markdown",
   "id": "6fecd422",
   "metadata": {},
   "source": [
    "## Check and impute the missing numerical data"
   ]
  },
  {
   "cell_type": "code",
   "execution_count": 23,
   "id": "63e72f62",
   "metadata": {},
   "outputs": [
    {
     "data": {
      "text/plain": [
       "P1     0\n",
       "P2     0\n",
       "P3     0\n",
       "P4     0\n",
       "P5     0\n",
       "P6     0\n",
       "P7     0\n",
       "P8     0\n",
       "E1     0\n",
       "E2     0\n",
       "E3     0\n",
       "E4     0\n",
       "E5     0\n",
       "E6     0\n",
       "E7     0\n",
       "E8     0\n",
       "E9     0\n",
       "E10    0\n",
       "E11    0\n",
       "V1     0\n",
       "V2     0\n",
       "V3     0\n",
       "V4     0\n",
       "V5     0\n",
       "V6     0\n",
       "V7     0\n",
       "V8     0\n",
       "V9     0\n",
       "V10    0\n",
       "V11    0\n",
       "dtype: int64"
      ]
     },
     "execution_count": 23,
     "metadata": {},
     "output_type": "execute_result"
    }
   ],
   "source": [
    "train_input.isna().sum()"
   ]
  },
  {
   "cell_type": "code",
   "execution_count": 24,
   "id": "59bec644",
   "metadata": {},
   "outputs": [
    {
     "data": {
      "text/plain": [
       "P1     0\n",
       "P2     0\n",
       "P3     0\n",
       "P4     0\n",
       "P5     0\n",
       "P6     0\n",
       "P7     0\n",
       "P8     0\n",
       "E1     0\n",
       "E2     0\n",
       "E3     0\n",
       "E4     0\n",
       "E5     0\n",
       "E6     0\n",
       "E7     0\n",
       "E8     0\n",
       "E9     0\n",
       "E10    0\n",
       "E11    0\n",
       "V1     0\n",
       "V2     0\n",
       "V3     0\n",
       "V4     0\n",
       "V5     0\n",
       "V6     0\n",
       "V7     0\n",
       "V8     0\n",
       "V9     0\n",
       "V10    0\n",
       "V11    0\n",
       "dtype: int64"
      ]
     },
     "execution_count": 24,
     "metadata": {},
     "output_type": "execute_result"
    }
   ],
   "source": [
    "val_input.isna().sum()"
   ]
  },
  {
   "cell_type": "markdown",
   "id": "6aa24b27",
   "metadata": {},
   "source": [
    "It seems that the training set and validation set do not contain missing value nan.Therefore,it is not necessary to imputem missing data."
   ]
  },
  {
   "cell_type": "markdown",
   "id": "053f6015",
   "metadata": {},
   "source": [
    "## Scaling numerical value"
   ]
  },
  {
   "cell_type": "markdown",
   "id": "27682ac4",
   "metadata": {},
   "source": [
    "It is easy to see that the range of all the columns are far different.Therefore,normalization is needed in order to avoid a particular feature dominate a model and weaken the importance of other features."
   ]
  },
  {
   "cell_type": "code",
   "execution_count": 25,
   "id": "81ba3738",
   "metadata": {},
   "outputs": [
    {
     "data": {
      "text/html": [
       "<div>\n",
       "<style scoped>\n",
       "    .dataframe tbody tr th:only-of-type {\n",
       "        vertical-align: middle;\n",
       "    }\n",
       "\n",
       "    .dataframe tbody tr th {\n",
       "        vertical-align: top;\n",
       "    }\n",
       "\n",
       "    .dataframe thead th {\n",
       "        text-align: right;\n",
       "    }\n",
       "</style>\n",
       "<table border=\"1\" class=\"dataframe\">\n",
       "  <thead>\n",
       "    <tr style=\"text-align: right;\">\n",
       "      <th></th>\n",
       "      <th>P1</th>\n",
       "      <th>P2</th>\n",
       "      <th>P3</th>\n",
       "      <th>P4</th>\n",
       "      <th>P5</th>\n",
       "      <th>P6</th>\n",
       "      <th>P7</th>\n",
       "      <th>P8</th>\n",
       "      <th>E1</th>\n",
       "      <th>E2</th>\n",
       "      <th>...</th>\n",
       "      <th>V2</th>\n",
       "      <th>V3</th>\n",
       "      <th>V4</th>\n",
       "      <th>V5</th>\n",
       "      <th>V6</th>\n",
       "      <th>V7</th>\n",
       "      <th>V8</th>\n",
       "      <th>V9</th>\n",
       "      <th>V10</th>\n",
       "      <th>V11</th>\n",
       "    </tr>\n",
       "  </thead>\n",
       "  <tbody>\n",
       "    <tr>\n",
       "      <th>count</th>\n",
       "      <td>604329.000000</td>\n",
       "      <td>604329.000000</td>\n",
       "      <td>604329.000000</td>\n",
       "      <td>604329.000000</td>\n",
       "      <td>604329.000000</td>\n",
       "      <td>604329.000000</td>\n",
       "      <td>604329.000000</td>\n",
       "      <td>604329.0</td>\n",
       "      <td>604329.000000</td>\n",
       "      <td>604329.000000</td>\n",
       "      <td>...</td>\n",
       "      <td>604329.000000</td>\n",
       "      <td>604329.000000</td>\n",
       "      <td>604329.000000</td>\n",
       "      <td>604329.000000</td>\n",
       "      <td>604329.000000</td>\n",
       "      <td>604329.0</td>\n",
       "      <td>604329.000000</td>\n",
       "      <td>604329.0</td>\n",
       "      <td>604329.000000</td>\n",
       "      <td>604329.000000</td>\n",
       "    </tr>\n",
       "    <tr>\n",
       "      <th>mean</th>\n",
       "      <td>35.449020</td>\n",
       "      <td>11.996525</td>\n",
       "      <td>1026.671035</td>\n",
       "      <td>64.061965</td>\n",
       "      <td>0.178923</td>\n",
       "      <td>845.384610</td>\n",
       "      <td>77.887628</td>\n",
       "      <td>0.0</td>\n",
       "      <td>10.512332</td>\n",
       "      <td>102.790045</td>\n",
       "      <td>...</td>\n",
       "      <td>-0.037710</td>\n",
       "      <td>573.786433</td>\n",
       "      <td>19.961030</td>\n",
       "      <td>0.179814</td>\n",
       "      <td>1715.688383</td>\n",
       "      <td>0.0</td>\n",
       "      <td>12.710354</td>\n",
       "      <td>0.0</td>\n",
       "      <td>3.312257</td>\n",
       "      <td>11.668277</td>\n",
       "    </tr>\n",
       "    <tr>\n",
       "      <th>std</th>\n",
       "      <td>7.484629</td>\n",
       "      <td>3.760292</td>\n",
       "      <td>309.277877</td>\n",
       "      <td>19.755950</td>\n",
       "      <td>0.372309</td>\n",
       "      <td>2505.335141</td>\n",
       "      <td>18.577930</td>\n",
       "      <td>0.0</td>\n",
       "      <td>14.049071</td>\n",
       "      <td>127.258629</td>\n",
       "      <td>...</td>\n",
       "      <td>0.403896</td>\n",
       "      <td>298.412888</td>\n",
       "      <td>63.269456</td>\n",
       "      <td>0.384033</td>\n",
       "      <td>618.176470</td>\n",
       "      <td>0.0</td>\n",
       "      <td>11.532085</td>\n",
       "      <td>0.0</td>\n",
       "      <td>1.243586</td>\n",
       "      <td>9.934423</td>\n",
       "    </tr>\n",
       "    <tr>\n",
       "      <th>min</th>\n",
       "      <td>-22.481200</td>\n",
       "      <td>-45.629200</td>\n",
       "      <td>504.000000</td>\n",
       "      <td>23.885300</td>\n",
       "      <td>0.038920</td>\n",
       "      <td>128.000000</td>\n",
       "      <td>0.262224</td>\n",
       "      <td>0.0</td>\n",
       "      <td>0.000000</td>\n",
       "      <td>0.000000</td>\n",
       "      <td>...</td>\n",
       "      <td>-4.795000</td>\n",
       "      <td>240.000000</td>\n",
       "      <td>0.000000</td>\n",
       "      <td>0.000000</td>\n",
       "      <td>0.000000</td>\n",
       "      <td>0.0</td>\n",
       "      <td>0.000000</td>\n",
       "      <td>0.0</td>\n",
       "      <td>1.000000</td>\n",
       "      <td>1.676730</td>\n",
       "    </tr>\n",
       "    <tr>\n",
       "      <th>25%</th>\n",
       "      <td>31.758100</td>\n",
       "      <td>9.903540</td>\n",
       "      <td>792.000000</td>\n",
       "      <td>49.180300</td>\n",
       "      <td>0.092110</td>\n",
       "      <td>668.000000</td>\n",
       "      <td>66.666700</td>\n",
       "      <td>0.0</td>\n",
       "      <td>0.000000</td>\n",
       "      <td>0.000000</td>\n",
       "      <td>...</td>\n",
       "      <td>-0.175000</td>\n",
       "      <td>255.000000</td>\n",
       "      <td>1.487500</td>\n",
       "      <td>0.000000</td>\n",
       "      <td>1259.000000</td>\n",
       "      <td>0.0</td>\n",
       "      <td>0.000000</td>\n",
       "      <td>0.0</td>\n",
       "      <td>3.000000</td>\n",
       "      <td>7.947680</td>\n",
       "    </tr>\n",
       "    <tr>\n",
       "      <th>50%</th>\n",
       "      <td>34.145100</td>\n",
       "      <td>11.400400</td>\n",
       "      <td>1000.000000</td>\n",
       "      <td>60.000000</td>\n",
       "      <td>0.105083</td>\n",
       "      <td>800.000000</td>\n",
       "      <td>75.000000</td>\n",
       "      <td>0.0</td>\n",
       "      <td>0.000000</td>\n",
       "      <td>0.000000</td>\n",
       "      <td>...</td>\n",
       "      <td>0.000000</td>\n",
       "      <td>511.000000</td>\n",
       "      <td>3.018750</td>\n",
       "      <td>0.000000</td>\n",
       "      <td>1994.000000</td>\n",
       "      <td>0.0</td>\n",
       "      <td>12.800000</td>\n",
       "      <td>0.0</td>\n",
       "      <td>4.000000</td>\n",
       "      <td>10.772600</td>\n",
       "    </tr>\n",
       "    <tr>\n",
       "      <th>75%</th>\n",
       "      <td>37.311900</td>\n",
       "      <td>13.644200</td>\n",
       "      <td>1220.000000</td>\n",
       "      <td>75.757600</td>\n",
       "      <td>0.138814</td>\n",
       "      <td>900.000000</td>\n",
       "      <td>89.820400</td>\n",
       "      <td>0.0</td>\n",
       "      <td>28.240000</td>\n",
       "      <td>211.584000</td>\n",
       "      <td>...</td>\n",
       "      <td>0.070000</td>\n",
       "      <td>767.000000</td>\n",
       "      <td>7.481250</td>\n",
       "      <td>0.000000</td>\n",
       "      <td>2146.000000</td>\n",
       "      <td>0.0</td>\n",
       "      <td>21.900000</td>\n",
       "      <td>0.0</td>\n",
       "      <td>4.000000</td>\n",
       "      <td>15.270900</td>\n",
       "    </tr>\n",
       "    <tr>\n",
       "      <th>max</th>\n",
       "      <td>101.351000</td>\n",
       "      <td>71.173700</td>\n",
       "      <td>2512.000000</td>\n",
       "      <td>119.048000</td>\n",
       "      <td>27.202200</td>\n",
       "      <td>228812.000000</td>\n",
       "      <td>468.750000</td>\n",
       "      <td>0.0</td>\n",
       "      <td>243.991000</td>\n",
       "      <td>359.995000</td>\n",
       "      <td>...</td>\n",
       "      <td>3.990000</td>\n",
       "      <td>1023.000000</td>\n",
       "      <td>484.488000</td>\n",
       "      <td>1.000000</td>\n",
       "      <td>4892.000000</td>\n",
       "      <td>0.0</td>\n",
       "      <td>82.100000</td>\n",
       "      <td>0.0</td>\n",
       "      <td>7.000000</td>\n",
       "      <td>262.534000</td>\n",
       "    </tr>\n",
       "  </tbody>\n",
       "</table>\n",
       "<p>8 rows × 30 columns</p>\n",
       "</div>"
      ],
      "text/plain": [
       "                  P1             P2             P3             P4  \\\n",
       "count  604329.000000  604329.000000  604329.000000  604329.000000   \n",
       "mean       35.449020      11.996525    1026.671035      64.061965   \n",
       "std         7.484629       3.760292     309.277877      19.755950   \n",
       "min       -22.481200     -45.629200     504.000000      23.885300   \n",
       "25%        31.758100       9.903540     792.000000      49.180300   \n",
       "50%        34.145100      11.400400    1000.000000      60.000000   \n",
       "75%        37.311900      13.644200    1220.000000      75.757600   \n",
       "max       101.351000      71.173700    2512.000000     119.048000   \n",
       "\n",
       "                  P5             P6             P7        P8             E1  \\\n",
       "count  604329.000000  604329.000000  604329.000000  604329.0  604329.000000   \n",
       "mean        0.178923     845.384610      77.887628       0.0      10.512332   \n",
       "std         0.372309    2505.335141      18.577930       0.0      14.049071   \n",
       "min         0.038920     128.000000       0.262224       0.0       0.000000   \n",
       "25%         0.092110     668.000000      66.666700       0.0       0.000000   \n",
       "50%         0.105083     800.000000      75.000000       0.0       0.000000   \n",
       "75%         0.138814     900.000000      89.820400       0.0      28.240000   \n",
       "max        27.202200  228812.000000     468.750000       0.0     243.991000   \n",
       "\n",
       "                  E2  ...             V2             V3             V4  \\\n",
       "count  604329.000000  ...  604329.000000  604329.000000  604329.000000   \n",
       "mean      102.790045  ...      -0.037710     573.786433      19.961030   \n",
       "std       127.258629  ...       0.403896     298.412888      63.269456   \n",
       "min         0.000000  ...      -4.795000     240.000000       0.000000   \n",
       "25%         0.000000  ...      -0.175000     255.000000       1.487500   \n",
       "50%         0.000000  ...       0.000000     511.000000       3.018750   \n",
       "75%       211.584000  ...       0.070000     767.000000       7.481250   \n",
       "max       359.995000  ...       3.990000    1023.000000     484.488000   \n",
       "\n",
       "                  V5             V6        V7             V8        V9  \\\n",
       "count  604329.000000  604329.000000  604329.0  604329.000000  604329.0   \n",
       "mean        0.179814    1715.688383       0.0      12.710354       0.0   \n",
       "std         0.384033     618.176470       0.0      11.532085       0.0   \n",
       "min         0.000000       0.000000       0.0       0.000000       0.0   \n",
       "25%         0.000000    1259.000000       0.0       0.000000       0.0   \n",
       "50%         0.000000    1994.000000       0.0      12.800000       0.0   \n",
       "75%         0.000000    2146.000000       0.0      21.900000       0.0   \n",
       "max         1.000000    4892.000000       0.0      82.100000       0.0   \n",
       "\n",
       "                 V10            V11  \n",
       "count  604329.000000  604329.000000  \n",
       "mean        3.312257      11.668277  \n",
       "std         1.243586       9.934423  \n",
       "min         1.000000       1.676730  \n",
       "25%         3.000000       7.947680  \n",
       "50%         4.000000      10.772600  \n",
       "75%         4.000000      15.270900  \n",
       "max         7.000000     262.534000  \n",
       "\n",
       "[8 rows x 30 columns]"
      ]
     },
     "execution_count": 25,
     "metadata": {},
     "output_type": "execute_result"
    }
   ],
   "source": [
    "original_data_set[input_cols].describe()"
   ]
  },
  {
   "cell_type": "markdown",
   "id": "5aade9c9",
   "metadata": {},
   "source": [
    "Let us use MinMaxScaler from sklearn.preprocessing to scale all the values"
   ]
  },
  {
   "cell_type": "code",
   "execution_count": 26,
   "id": "5f8e1a74",
   "metadata": {},
   "outputs": [],
   "source": [
    "from sklearn.preprocessing import MinMaxScaler"
   ]
  },
  {
   "cell_type": "code",
   "execution_count": 27,
   "id": "b66c14f7",
   "metadata": {},
   "outputs": [],
   "source": [
    "scaler = MinMaxScaler()"
   ]
  },
  {
   "cell_type": "code",
   "execution_count": 28,
   "id": "de521bdd",
   "metadata": {},
   "outputs": [
    {
     "data": {
      "text/plain": [
       "MinMaxScaler()"
      ]
     },
     "execution_count": 28,
     "metadata": {},
     "output_type": "execute_result"
    }
   ],
   "source": [
    "scaler.fit(original_data_set[input_cols])"
   ]
  },
  {
   "cell_type": "code",
   "execution_count": 29,
   "id": "9bc0baed",
   "metadata": {},
   "outputs": [],
   "source": [
    "train_input[input_cols] = scaler.transform(train_input[input_cols])\n",
    "val_input[input_cols] = scaler.transform(val_input[input_cols])\n",
    "testing_data_set[input_cols] = scaler.transform(testing_data_set[input_cols])"
   ]
  },
  {
   "cell_type": "code",
   "execution_count": 30,
   "id": "99ca626e",
   "metadata": {},
   "outputs": [
    {
     "data": {
      "text/html": [
       "<div>\n",
       "<style scoped>\n",
       "    .dataframe tbody tr th:only-of-type {\n",
       "        vertical-align: middle;\n",
       "    }\n",
       "\n",
       "    .dataframe tbody tr th {\n",
       "        vertical-align: top;\n",
       "    }\n",
       "\n",
       "    .dataframe thead th {\n",
       "        text-align: right;\n",
       "    }\n",
       "</style>\n",
       "<table border=\"1\" class=\"dataframe\">\n",
       "  <thead>\n",
       "    <tr style=\"text-align: right;\">\n",
       "      <th></th>\n",
       "      <th>P1</th>\n",
       "      <th>P2</th>\n",
       "      <th>P3</th>\n",
       "      <th>P4</th>\n",
       "      <th>P5</th>\n",
       "      <th>P6</th>\n",
       "      <th>P7</th>\n",
       "      <th>P8</th>\n",
       "      <th>E1</th>\n",
       "      <th>E2</th>\n",
       "      <th>...</th>\n",
       "      <th>V2</th>\n",
       "      <th>V3</th>\n",
       "      <th>V4</th>\n",
       "      <th>V5</th>\n",
       "      <th>V6</th>\n",
       "      <th>V7</th>\n",
       "      <th>V8</th>\n",
       "      <th>V9</th>\n",
       "      <th>V10</th>\n",
       "      <th>V11</th>\n",
       "    </tr>\n",
       "  </thead>\n",
       "  <tbody>\n",
       "    <tr>\n",
       "      <th>count</th>\n",
       "      <td>462976.000000</td>\n",
       "      <td>462976.000000</td>\n",
       "      <td>462976.000000</td>\n",
       "      <td>462976.000000</td>\n",
       "      <td>462976.000000</td>\n",
       "      <td>462976.000000</td>\n",
       "      <td>462976.000000</td>\n",
       "      <td>462976.0</td>\n",
       "      <td>462976.000000</td>\n",
       "      <td>462976.000000</td>\n",
       "      <td>...</td>\n",
       "      <td>462976.000000</td>\n",
       "      <td>462976.000000</td>\n",
       "      <td>462976.000000</td>\n",
       "      <td>462976.000000</td>\n",
       "      <td>462976.000000</td>\n",
       "      <td>462976.0</td>\n",
       "      <td>462976.000000</td>\n",
       "      <td>462976.0</td>\n",
       "      <td>462976.000000</td>\n",
       "      <td>462976.000000</td>\n",
       "    </tr>\n",
       "    <tr>\n",
       "      <th>mean</th>\n",
       "      <td>0.467431</td>\n",
       "      <td>0.493023</td>\n",
       "      <td>0.260520</td>\n",
       "      <td>0.421668</td>\n",
       "      <td>0.005807</td>\n",
       "      <td>0.003284</td>\n",
       "      <td>0.161866</td>\n",
       "      <td>0.0</td>\n",
       "      <td>0.043961</td>\n",
       "      <td>0.294438</td>\n",
       "      <td>...</td>\n",
       "      <td>0.541060</td>\n",
       "      <td>0.420505</td>\n",
       "      <td>0.043184</td>\n",
       "      <td>0.179443</td>\n",
       "      <td>0.354499</td>\n",
       "      <td>0.0</td>\n",
       "      <td>0.156462</td>\n",
       "      <td>0.0</td>\n",
       "      <td>0.392604</td>\n",
       "      <td>0.035307</td>\n",
       "    </tr>\n",
       "    <tr>\n",
       "      <th>std</th>\n",
       "      <td>0.066172</td>\n",
       "      <td>0.031313</td>\n",
       "      <td>0.153913</td>\n",
       "      <td>0.207015</td>\n",
       "      <td>0.015563</td>\n",
       "      <td>0.012510</td>\n",
       "      <td>0.041645</td>\n",
       "      <td>0.0</td>\n",
       "      <td>0.057899</td>\n",
       "      <td>0.358595</td>\n",
       "      <td>...</td>\n",
       "      <td>0.045239</td>\n",
       "      <td>0.378669</td>\n",
       "      <td>0.137770</td>\n",
       "      <td>0.383724</td>\n",
       "      <td>0.124226</td>\n",
       "      <td>0.0</td>\n",
       "      <td>0.138914</td>\n",
       "      <td>0.0</td>\n",
       "      <td>0.202531</td>\n",
       "      <td>0.042746</td>\n",
       "    </tr>\n",
       "    <tr>\n",
       "      <th>min</th>\n",
       "      <td>0.000000</td>\n",
       "      <td>0.000000</td>\n",
       "      <td>0.000000</td>\n",
       "      <td>0.000000</td>\n",
       "      <td>0.000000</td>\n",
       "      <td>0.000000</td>\n",
       "      <td>0.000000</td>\n",
       "      <td>0.0</td>\n",
       "      <td>0.000000</td>\n",
       "      <td>0.000000</td>\n",
       "      <td>...</td>\n",
       "      <td>0.000000</td>\n",
       "      <td>0.000000</td>\n",
       "      <td>0.000000</td>\n",
       "      <td>0.000000</td>\n",
       "      <td>0.000000</td>\n",
       "      <td>0.0</td>\n",
       "      <td>0.000000</td>\n",
       "      <td>0.0</td>\n",
       "      <td>0.000000</td>\n",
       "      <td>0.000000</td>\n",
       "    </tr>\n",
       "    <tr>\n",
       "      <th>25%</th>\n",
       "      <td>0.433740</td>\n",
       "      <td>0.476010</td>\n",
       "      <td>0.143426</td>\n",
       "      <td>0.265808</td>\n",
       "      <td>0.001910</td>\n",
       "      <td>0.002414</td>\n",
       "      <td>0.135109</td>\n",
       "      <td>0.0</td>\n",
       "      <td>0.000000</td>\n",
       "      <td>0.000000</td>\n",
       "      <td>...</td>\n",
       "      <td>0.525896</td>\n",
       "      <td>0.019157</td>\n",
       "      <td>0.003070</td>\n",
       "      <td>0.000000</td>\n",
       "      <td>0.297424</td>\n",
       "      <td>0.0</td>\n",
       "      <td>0.000000</td>\n",
       "      <td>0.0</td>\n",
       "      <td>0.500000</td>\n",
       "      <td>0.022367</td>\n",
       "    </tr>\n",
       "    <tr>\n",
       "      <th>50%</th>\n",
       "      <td>0.455347</td>\n",
       "      <td>0.488172</td>\n",
       "      <td>0.247012</td>\n",
       "      <td>0.379505</td>\n",
       "      <td>0.002436</td>\n",
       "      <td>0.003044</td>\n",
       "      <td>0.154867</td>\n",
       "      <td>0.0</td>\n",
       "      <td>0.000000</td>\n",
       "      <td>0.000000</td>\n",
       "      <td>...</td>\n",
       "      <td>0.545817</td>\n",
       "      <td>0.346105</td>\n",
       "      <td>0.006231</td>\n",
       "      <td>0.000000</td>\n",
       "      <td>0.409035</td>\n",
       "      <td>0.0</td>\n",
       "      <td>0.160780</td>\n",
       "      <td>0.0</td>\n",
       "      <td>0.500000</td>\n",
       "      <td>0.029997</td>\n",
       "    </tr>\n",
       "    <tr>\n",
       "      <th>75%</th>\n",
       "      <td>0.483739</td>\n",
       "      <td>0.507024</td>\n",
       "      <td>0.356574</td>\n",
       "      <td>0.545091</td>\n",
       "      <td>0.007833</td>\n",
       "      <td>0.003568</td>\n",
       "      <td>0.187781</td>\n",
       "      <td>0.0</td>\n",
       "      <td>0.116398</td>\n",
       "      <td>0.606614</td>\n",
       "      <td>...</td>\n",
       "      <td>0.553785</td>\n",
       "      <td>0.673052</td>\n",
       "      <td>0.015442</td>\n",
       "      <td>0.000000</td>\n",
       "      <td>0.439084</td>\n",
       "      <td>0.0</td>\n",
       "      <td>0.266748</td>\n",
       "      <td>0.0</td>\n",
       "      <td>0.500000</td>\n",
       "      <td>0.047558</td>\n",
       "    </tr>\n",
       "    <tr>\n",
       "      <th>max</th>\n",
       "      <td>1.000000</td>\n",
       "      <td>1.000000</td>\n",
       "      <td>1.000000</td>\n",
       "      <td>1.000000</td>\n",
       "      <td>1.000000</td>\n",
       "      <td>1.000000</td>\n",
       "      <td>1.000000</td>\n",
       "      <td>0.0</td>\n",
       "      <td>1.000000</td>\n",
       "      <td>1.000000</td>\n",
       "      <td>...</td>\n",
       "      <td>1.000000</td>\n",
       "      <td>1.000000</td>\n",
       "      <td>0.993857</td>\n",
       "      <td>1.000000</td>\n",
       "      <td>1.000000</td>\n",
       "      <td>0.0</td>\n",
       "      <td>0.790499</td>\n",
       "      <td>0.0</td>\n",
       "      <td>1.000000</td>\n",
       "      <td>1.000000</td>\n",
       "    </tr>\n",
       "  </tbody>\n",
       "</table>\n",
       "<p>8 rows × 30 columns</p>\n",
       "</div>"
      ],
      "text/plain": [
       "                  P1             P2             P3             P4  \\\n",
       "count  462976.000000  462976.000000  462976.000000  462976.000000   \n",
       "mean        0.467431       0.493023       0.260520       0.421668   \n",
       "std         0.066172       0.031313       0.153913       0.207015   \n",
       "min         0.000000       0.000000       0.000000       0.000000   \n",
       "25%         0.433740       0.476010       0.143426       0.265808   \n",
       "50%         0.455347       0.488172       0.247012       0.379505   \n",
       "75%         0.483739       0.507024       0.356574       0.545091   \n",
       "max         1.000000       1.000000       1.000000       1.000000   \n",
       "\n",
       "                  P5             P6             P7        P8             E1  \\\n",
       "count  462976.000000  462976.000000  462976.000000  462976.0  462976.000000   \n",
       "mean        0.005807       0.003284       0.161866       0.0       0.043961   \n",
       "std         0.015563       0.012510       0.041645       0.0       0.057899   \n",
       "min         0.000000       0.000000       0.000000       0.0       0.000000   \n",
       "25%         0.001910       0.002414       0.135109       0.0       0.000000   \n",
       "50%         0.002436       0.003044       0.154867       0.0       0.000000   \n",
       "75%         0.007833       0.003568       0.187781       0.0       0.116398   \n",
       "max         1.000000       1.000000       1.000000       0.0       1.000000   \n",
       "\n",
       "                  E2  ...             V2             V3             V4  \\\n",
       "count  462976.000000  ...  462976.000000  462976.000000  462976.000000   \n",
       "mean        0.294438  ...       0.541060       0.420505       0.043184   \n",
       "std         0.358595  ...       0.045239       0.378669       0.137770   \n",
       "min         0.000000  ...       0.000000       0.000000       0.000000   \n",
       "25%         0.000000  ...       0.525896       0.019157       0.003070   \n",
       "50%         0.000000  ...       0.545817       0.346105       0.006231   \n",
       "75%         0.606614  ...       0.553785       0.673052       0.015442   \n",
       "max         1.000000  ...       1.000000       1.000000       0.993857   \n",
       "\n",
       "                  V5             V6        V7             V8        V9  \\\n",
       "count  462976.000000  462976.000000  462976.0  462976.000000  462976.0   \n",
       "mean        0.179443       0.354499       0.0       0.156462       0.0   \n",
       "std         0.383724       0.124226       0.0       0.138914       0.0   \n",
       "min         0.000000       0.000000       0.0       0.000000       0.0   \n",
       "25%         0.000000       0.297424       0.0       0.000000       0.0   \n",
       "50%         0.000000       0.409035       0.0       0.160780       0.0   \n",
       "75%         0.000000       0.439084       0.0       0.266748       0.0   \n",
       "max         1.000000       1.000000       0.0       0.790499       0.0   \n",
       "\n",
       "                 V10            V11  \n",
       "count  462976.000000  462976.000000  \n",
       "mean        0.392604       0.035307  \n",
       "std         0.202531       0.042746  \n",
       "min         0.000000       0.000000  \n",
       "25%         0.500000       0.022367  \n",
       "50%         0.500000       0.029997  \n",
       "75%         0.500000       0.047558  \n",
       "max         1.000000       1.000000  \n",
       "\n",
       "[8 rows x 30 columns]"
      ]
     },
     "execution_count": 30,
     "metadata": {},
     "output_type": "execute_result"
    }
   ],
   "source": [
    "# map all the values to (0,1) range\n",
    "train_input.describe()"
   ]
  },
  {
   "cell_type": "markdown",
   "id": "7c66720b",
   "metadata": {},
   "source": [
    "## Encoding categorical data\n",
    "As the dataset do not cotain categorical columns, so there is no need to use OneHotEncoder to do the transformation."
   ]
  },
  {
   "cell_type": "markdown",
   "id": "254da0ad",
   "metadata": {},
   "source": [
    "## Decision Tree Classifier \n",
    "To train the decision tree classifier ,we can use DecisionTreeClassifier from sklearn.tree ."
   ]
  },
  {
   "cell_type": "code",
   "execution_count": 31,
   "id": "fe29de86",
   "metadata": {},
   "outputs": [],
   "source": [
    "from sklearn.tree import DecisionTreeClassifier"
   ]
  },
  {
   "cell_type": "code",
   "execution_count": 32,
   "id": "941aa138",
   "metadata": {},
   "outputs": [],
   "source": [
    "tree = DecisionTreeClassifier(random_state=42)"
   ]
  },
  {
   "cell_type": "code",
   "execution_count": 33,
   "id": "5fcad125",
   "metadata": {},
   "outputs": [
    {
     "data": {
      "text/plain": [
       "DecisionTreeClassifier(random_state=42)"
      ]
     },
     "execution_count": 33,
     "metadata": {},
     "output_type": "execute_result"
    }
   ],
   "source": [
    "tree.fit(train_input,train_target)"
   ]
  },
  {
   "cell_type": "code",
   "execution_count": 34,
   "id": "3494395b",
   "metadata": {},
   "outputs": [],
   "source": [
    "tree_pred_train = tree.predict(train_input)"
   ]
  },
  {
   "cell_type": "code",
   "execution_count": 35,
   "id": "363efcfc",
   "metadata": {},
   "outputs": [],
   "source": [
    "tree_pred_val = tree.predict(val_input)"
   ]
  },
  {
   "cell_type": "code",
   "execution_count": 36,
   "id": "cee95ab1",
   "metadata": {},
   "outputs": [],
   "source": [
    "from sklearn.metrics import accuracy_score"
   ]
  },
  {
   "cell_type": "code",
   "execution_count": 37,
   "id": "976a0129",
   "metadata": {},
   "outputs": [
    {
     "data": {
      "text/plain": [
       "1.0"
      ]
     },
     "execution_count": 37,
     "metadata": {},
     "output_type": "execute_result"
    }
   ],
   "source": [
    "accuracy_score(train_target,tree_pred_train)"
   ]
  },
  {
   "cell_type": "code",
   "execution_count": 38,
   "id": "d3200add",
   "metadata": {},
   "outputs": [
    {
     "data": {
      "text/plain": [
       "0.5969523108812689"
      ]
     },
     "execution_count": 38,
     "metadata": {},
     "output_type": "execute_result"
    }
   ],
   "source": [
    "accuracy_score(val_target,tree_pred_val)"
   ]
  },
  {
   "cell_type": "markdown",
   "id": "a68bd1ad",
   "metadata": {},
   "source": [
    "Although the decision tree classifier created can predict the training data set with accuracy 100% , it predicts the validation set only around 60% accuracy .It seems that we should tune some hyperparameters such that the model can predict the target column more precise. "
   ]
  },
  {
   "cell_type": "markdown",
   "id": "8678b425",
   "metadata": {},
   "source": [
    "## Hyperparameter tuning\n",
    "We will explore some hyperparameters and find the suitable value for model improvement."
   ]
  },
  {
   "cell_type": "markdown",
   "id": "08bafed0",
   "metadata": {},
   "source": [
    "#### max_depth"
   ]
  },
  {
   "cell_type": "code",
   "execution_count": 39,
   "id": "ec350870",
   "metadata": {},
   "outputs": [],
   "source": [
    "## Let's define a helper function for testing different value of max_depth.\n",
    "def max_depth_error(md):\n",
    "    model = DecisionTreeClassifier(max_depth=md , random_state=42)\n",
    "    model.fit(train_input,train_target)\n",
    "    train_acc = 1 - model.score(train_input,train_target)\n",
    "    val_acc = 1 - model.score(val_input,val_target)\n",
    "    return {'Max Depth':md , 'Train Error':train_acc , 'Validation Error':val_acc}"
   ]
  },
  {
   "cell_type": "code",
   "execution_count": 40,
   "id": "f8ac9034",
   "metadata": {},
   "outputs": [],
   "source": [
    "errors_df = pd.DataFrame([max_depth_error(md) for md in range(1,21)])"
   ]
  },
  {
   "cell_type": "code",
   "execution_count": 41,
   "id": "a1ac4570",
   "metadata": {},
   "outputs": [
    {
     "data": {
      "text/html": [
       "<div>\n",
       "<style scoped>\n",
       "    .dataframe tbody tr th:only-of-type {\n",
       "        vertical-align: middle;\n",
       "    }\n",
       "\n",
       "    .dataframe tbody tr th {\n",
       "        vertical-align: top;\n",
       "    }\n",
       "\n",
       "    .dataframe thead th {\n",
       "        text-align: right;\n",
       "    }\n",
       "</style>\n",
       "<table border=\"1\" class=\"dataframe\">\n",
       "  <thead>\n",
       "    <tr style=\"text-align: right;\">\n",
       "      <th></th>\n",
       "      <th>Max Depth</th>\n",
       "      <th>Train Error</th>\n",
       "      <th>Validation Error</th>\n",
       "    </tr>\n",
       "  </thead>\n",
       "  <tbody>\n",
       "    <tr>\n",
       "      <th>0</th>\n",
       "      <td>1</td>\n",
       "      <td>0.304143</td>\n",
       "      <td>0.359823</td>\n",
       "    </tr>\n",
       "    <tr>\n",
       "      <th>1</th>\n",
       "      <td>2</td>\n",
       "      <td>0.199658</td>\n",
       "      <td>0.362122</td>\n",
       "    </tr>\n",
       "    <tr>\n",
       "      <th>2</th>\n",
       "      <td>3</td>\n",
       "      <td>0.155980</td>\n",
       "      <td>0.359483</td>\n",
       "    </tr>\n",
       "    <tr>\n",
       "      <th>3</th>\n",
       "      <td>4</td>\n",
       "      <td>0.153976</td>\n",
       "      <td>0.360643</td>\n",
       "    </tr>\n",
       "    <tr>\n",
       "      <th>4</th>\n",
       "      <td>5</td>\n",
       "      <td>0.133223</td>\n",
       "      <td>0.364647</td>\n",
       "    </tr>\n",
       "    <tr>\n",
       "      <th>5</th>\n",
       "      <td>6</td>\n",
       "      <td>0.121047</td>\n",
       "      <td>0.364060</td>\n",
       "    </tr>\n",
       "    <tr>\n",
       "      <th>6</th>\n",
       "      <td>7</td>\n",
       "      <td>0.104656</td>\n",
       "      <td>0.369479</td>\n",
       "    </tr>\n",
       "    <tr>\n",
       "      <th>7</th>\n",
       "      <td>8</td>\n",
       "      <td>0.096260</td>\n",
       "      <td>0.306870</td>\n",
       "    </tr>\n",
       "    <tr>\n",
       "      <th>8</th>\n",
       "      <td>9</td>\n",
       "      <td>0.083492</td>\n",
       "      <td>0.370625</td>\n",
       "    </tr>\n",
       "    <tr>\n",
       "      <th>9</th>\n",
       "      <td>10</td>\n",
       "      <td>0.074136</td>\n",
       "      <td>0.334361</td>\n",
       "    </tr>\n",
       "    <tr>\n",
       "      <th>10</th>\n",
       "      <td>11</td>\n",
       "      <td>0.066055</td>\n",
       "      <td>0.391488</td>\n",
       "    </tr>\n",
       "    <tr>\n",
       "      <th>11</th>\n",
       "      <td>12</td>\n",
       "      <td>0.059076</td>\n",
       "      <td>0.386706</td>\n",
       "    </tr>\n",
       "    <tr>\n",
       "      <th>12</th>\n",
       "      <td>13</td>\n",
       "      <td>0.052592</td>\n",
       "      <td>0.385920</td>\n",
       "    </tr>\n",
       "    <tr>\n",
       "      <th>13</th>\n",
       "      <td>14</td>\n",
       "      <td>0.046873</td>\n",
       "      <td>0.380084</td>\n",
       "    </tr>\n",
       "    <tr>\n",
       "      <th>14</th>\n",
       "      <td>15</td>\n",
       "      <td>0.041629</td>\n",
       "      <td>0.370371</td>\n",
       "    </tr>\n",
       "    <tr>\n",
       "      <th>15</th>\n",
       "      <td>16</td>\n",
       "      <td>0.037065</td>\n",
       "      <td>0.370944</td>\n",
       "    </tr>\n",
       "    <tr>\n",
       "      <th>16</th>\n",
       "      <td>17</td>\n",
       "      <td>0.033231</td>\n",
       "      <td>0.382999</td>\n",
       "    </tr>\n",
       "    <tr>\n",
       "      <th>17</th>\n",
       "      <td>18</td>\n",
       "      <td>0.029630</td>\n",
       "      <td>0.377042</td>\n",
       "    </tr>\n",
       "    <tr>\n",
       "      <th>18</th>\n",
       "      <td>19</td>\n",
       "      <td>0.026712</td>\n",
       "      <td>0.373844</td>\n",
       "    </tr>\n",
       "    <tr>\n",
       "      <th>19</th>\n",
       "      <td>20</td>\n",
       "      <td>0.023645</td>\n",
       "      <td>0.371665</td>\n",
       "    </tr>\n",
       "  </tbody>\n",
       "</table>\n",
       "</div>"
      ],
      "text/plain": [
       "    Max Depth  Train Error  Validation Error\n",
       "0           1     0.304143          0.359823\n",
       "1           2     0.199658          0.362122\n",
       "2           3     0.155980          0.359483\n",
       "3           4     0.153976          0.360643\n",
       "4           5     0.133223          0.364647\n",
       "5           6     0.121047          0.364060\n",
       "6           7     0.104656          0.369479\n",
       "7           8     0.096260          0.306870\n",
       "8           9     0.083492          0.370625\n",
       "9          10     0.074136          0.334361\n",
       "10         11     0.066055          0.391488\n",
       "11         12     0.059076          0.386706\n",
       "12         13     0.052592          0.385920\n",
       "13         14     0.046873          0.380084\n",
       "14         15     0.041629          0.370371\n",
       "15         16     0.037065          0.370944\n",
       "16         17     0.033231          0.382999\n",
       "17         18     0.029630          0.377042\n",
       "18         19     0.026712          0.373844\n",
       "19         20     0.023645          0.371665"
      ]
     },
     "execution_count": 41,
     "metadata": {},
     "output_type": "execute_result"
    }
   ],
   "source": [
    "errors_df"
   ]
  },
  {
   "cell_type": "markdown",
   "id": "8979dcef",
   "metadata": {},
   "source": [
    "From the dataframe created above,it is clear that the max_depth of the decision tree classifier should be set at 8 such that the model has the least validation error of around 30%."
   ]
  },
  {
   "cell_type": "markdown",
   "id": "25002f0f",
   "metadata": {},
   "source": [
    "### max_leaf_nodes"
   ]
  },
  {
   "cell_type": "code",
   "execution_count": 42,
   "id": "93adce54",
   "metadata": {},
   "outputs": [],
   "source": [
    "## Let's define a helper function for testing different value of max_leaf_nodes.\n",
    "def max_leaf_nodes_error(md):\n",
    "    model = DecisionTreeClassifier(max_leaf_nodes=md , random_state=42)\n",
    "    model.fit(train_input,train_target)\n",
    "    train_acc = 1 - model.score(train_input,train_target)\n",
    "    val_acc = 1 - model.score(val_input,val_target)\n",
    "    return {'Max Leaf Nodes':md , 'Train Error':train_acc , 'Validation Error':val_acc}"
   ]
  },
  {
   "cell_type": "code",
   "execution_count": 43,
   "id": "1743d2f0",
   "metadata": {},
   "outputs": [],
   "source": [
    "error_mln_df=pd.DataFrame([max_leaf_nodes_error(md) for md in range(10,151)[0:141:10]])"
   ]
  },
  {
   "cell_type": "code",
   "execution_count": 44,
   "id": "6fd2e12d",
   "metadata": {},
   "outputs": [
    {
     "data": {
      "text/html": [
       "<div>\n",
       "<style scoped>\n",
       "    .dataframe tbody tr th:only-of-type {\n",
       "        vertical-align: middle;\n",
       "    }\n",
       "\n",
       "    .dataframe tbody tr th {\n",
       "        vertical-align: top;\n",
       "    }\n",
       "\n",
       "    .dataframe thead th {\n",
       "        text-align: right;\n",
       "    }\n",
       "</style>\n",
       "<table border=\"1\" class=\"dataframe\">\n",
       "  <thead>\n",
       "    <tr style=\"text-align: right;\">\n",
       "      <th></th>\n",
       "      <th>Max Leaf Nodes</th>\n",
       "      <th>Train Error</th>\n",
       "      <th>Validation Error</th>\n",
       "    </tr>\n",
       "  </thead>\n",
       "  <tbody>\n",
       "    <tr>\n",
       "      <th>0</th>\n",
       "      <td>10</td>\n",
       "      <td>0.138418</td>\n",
       "      <td>0.362122</td>\n",
       "    </tr>\n",
       "    <tr>\n",
       "      <th>1</th>\n",
       "      <td>20</td>\n",
       "      <td>0.119674</td>\n",
       "      <td>0.281996</td>\n",
       "    </tr>\n",
       "    <tr>\n",
       "      <th>2</th>\n",
       "      <td>30</td>\n",
       "      <td>0.112952</td>\n",
       "      <td>0.317694</td>\n",
       "    </tr>\n",
       "    <tr>\n",
       "      <th>3</th>\n",
       "      <td>40</td>\n",
       "      <td>0.105075</td>\n",
       "      <td>0.317489</td>\n",
       "    </tr>\n",
       "    <tr>\n",
       "      <th>4</th>\n",
       "      <td>50</td>\n",
       "      <td>0.099318</td>\n",
       "      <td>0.292735</td>\n",
       "    </tr>\n",
       "    <tr>\n",
       "      <th>5</th>\n",
       "      <td>60</td>\n",
       "      <td>0.095374</td>\n",
       "      <td>0.292855</td>\n",
       "    </tr>\n",
       "    <tr>\n",
       "      <th>6</th>\n",
       "      <td>70</td>\n",
       "      <td>0.090970</td>\n",
       "      <td>0.310252</td>\n",
       "    </tr>\n",
       "    <tr>\n",
       "      <th>7</th>\n",
       "      <td>80</td>\n",
       "      <td>0.089266</td>\n",
       "      <td>0.311405</td>\n",
       "    </tr>\n",
       "    <tr>\n",
       "      <th>8</th>\n",
       "      <td>90</td>\n",
       "      <td>0.087812</td>\n",
       "      <td>0.312798</td>\n",
       "    </tr>\n",
       "    <tr>\n",
       "      <th>9</th>\n",
       "      <td>100</td>\n",
       "      <td>0.084745</td>\n",
       "      <td>0.351149</td>\n",
       "    </tr>\n",
       "    <tr>\n",
       "      <th>10</th>\n",
       "      <td>110</td>\n",
       "      <td>0.083099</td>\n",
       "      <td>0.377735</td>\n",
       "    </tr>\n",
       "    <tr>\n",
       "      <th>11</th>\n",
       "      <td>120</td>\n",
       "      <td>0.081093</td>\n",
       "      <td>0.355033</td>\n",
       "    </tr>\n",
       "    <tr>\n",
       "      <th>12</th>\n",
       "      <td>130</td>\n",
       "      <td>0.079065</td>\n",
       "      <td>0.352239</td>\n",
       "    </tr>\n",
       "    <tr>\n",
       "      <th>13</th>\n",
       "      <td>140</td>\n",
       "      <td>0.077371</td>\n",
       "      <td>0.364570</td>\n",
       "    </tr>\n",
       "    <tr>\n",
       "      <th>14</th>\n",
       "      <td>150</td>\n",
       "      <td>0.075987</td>\n",
       "      <td>0.360834</td>\n",
       "    </tr>\n",
       "  </tbody>\n",
       "</table>\n",
       "</div>"
      ],
      "text/plain": [
       "    Max Leaf Nodes  Train Error  Validation Error\n",
       "0               10     0.138418          0.362122\n",
       "1               20     0.119674          0.281996\n",
       "2               30     0.112952          0.317694\n",
       "3               40     0.105075          0.317489\n",
       "4               50     0.099318          0.292735\n",
       "5               60     0.095374          0.292855\n",
       "6               70     0.090970          0.310252\n",
       "7               80     0.089266          0.311405\n",
       "8               90     0.087812          0.312798\n",
       "9              100     0.084745          0.351149\n",
       "10             110     0.083099          0.377735\n",
       "11             120     0.081093          0.355033\n",
       "12             130     0.079065          0.352239\n",
       "13             140     0.077371          0.364570\n",
       "14             150     0.075987          0.360834"
      ]
     },
     "execution_count": 44,
     "metadata": {},
     "output_type": "execute_result"
    }
   ],
   "source": [
    "error_mln_df"
   ]
  },
  {
   "cell_type": "markdown",
   "id": "59b54add",
   "metadata": {},
   "source": [
    "From the dataframe created above,it is clear that the max_leaf_nodes of the decision tree classifier should be set at 20 such that the model has the least validation error of around 28%."
   ]
  },
  {
   "cell_type": "markdown",
   "id": "2e99349c",
   "metadata": {},
   "source": [
    "### min_samples_split"
   ]
  },
  {
   "cell_type": "code",
   "execution_count": 45,
   "id": "d33ccc95",
   "metadata": {},
   "outputs": [],
   "source": [
    "## Let's define a helper function for testing different value of min_samples_split.\n",
    "def min_samples_split_error(md):\n",
    "    model = DecisionTreeClassifier(min_samples_split=md , random_state=42)\n",
    "    model.fit(train_input,train_target)\n",
    "    train_acc = 1 - model.score(train_input,train_target)\n",
    "    val_acc = 1 - model.score(val_input,val_target)\n",
    "    return {'Min Samples Split':md , 'Train Error':train_acc , 'Validation Error':val_acc}"
   ]
  },
  {
   "cell_type": "code",
   "execution_count": 46,
   "id": "289c56eb",
   "metadata": {},
   "outputs": [],
   "source": [
    "error_mss_df=pd.DataFrame([min_samples_split_error(md) for md in range(2,21)[0:19:2]])"
   ]
  },
  {
   "cell_type": "code",
   "execution_count": 47,
   "id": "911f3502",
   "metadata": {},
   "outputs": [
    {
     "data": {
      "text/html": [
       "<div>\n",
       "<style scoped>\n",
       "    .dataframe tbody tr th:only-of-type {\n",
       "        vertical-align: middle;\n",
       "    }\n",
       "\n",
       "    .dataframe tbody tr th {\n",
       "        vertical-align: top;\n",
       "    }\n",
       "\n",
       "    .dataframe thead th {\n",
       "        text-align: right;\n",
       "    }\n",
       "</style>\n",
       "<table border=\"1\" class=\"dataframe\">\n",
       "  <thead>\n",
       "    <tr style=\"text-align: right;\">\n",
       "      <th></th>\n",
       "      <th>Min Samples Split</th>\n",
       "      <th>Train Error</th>\n",
       "      <th>Validation Error</th>\n",
       "    </tr>\n",
       "  </thead>\n",
       "  <tbody>\n",
       "    <tr>\n",
       "      <th>0</th>\n",
       "      <td>2</td>\n",
       "      <td>0.000000</td>\n",
       "      <td>0.403048</td>\n",
       "    </tr>\n",
       "    <tr>\n",
       "      <th>1</th>\n",
       "      <td>4</td>\n",
       "      <td>0.000421</td>\n",
       "      <td>0.404717</td>\n",
       "    </tr>\n",
       "    <tr>\n",
       "      <th>2</th>\n",
       "      <td>6</td>\n",
       "      <td>0.001240</td>\n",
       "      <td>0.397699</td>\n",
       "    </tr>\n",
       "    <tr>\n",
       "      <th>3</th>\n",
       "      <td>8</td>\n",
       "      <td>0.002458</td>\n",
       "      <td>0.397905</td>\n",
       "    </tr>\n",
       "    <tr>\n",
       "      <th>4</th>\n",
       "      <td>10</td>\n",
       "      <td>0.003603</td>\n",
       "      <td>0.403854</td>\n",
       "    </tr>\n",
       "    <tr>\n",
       "      <th>5</th>\n",
       "      <td>12</td>\n",
       "      <td>0.005255</td>\n",
       "      <td>0.403882</td>\n",
       "    </tr>\n",
       "    <tr>\n",
       "      <th>6</th>\n",
       "      <td>14</td>\n",
       "      <td>0.006681</td>\n",
       "      <td>0.401576</td>\n",
       "    </tr>\n",
       "    <tr>\n",
       "      <th>7</th>\n",
       "      <td>16</td>\n",
       "      <td>0.008193</td>\n",
       "      <td>0.392868</td>\n",
       "    </tr>\n",
       "    <tr>\n",
       "      <th>8</th>\n",
       "      <td>18</td>\n",
       "      <td>0.009666</td>\n",
       "      <td>0.400543</td>\n",
       "    </tr>\n",
       "    <tr>\n",
       "      <th>9</th>\n",
       "      <td>20</td>\n",
       "      <td>0.011020</td>\n",
       "      <td>0.396093</td>\n",
       "    </tr>\n",
       "  </tbody>\n",
       "</table>\n",
       "</div>"
      ],
      "text/plain": [
       "   Min Samples Split  Train Error  Validation Error\n",
       "0                  2     0.000000          0.403048\n",
       "1                  4     0.000421          0.404717\n",
       "2                  6     0.001240          0.397699\n",
       "3                  8     0.002458          0.397905\n",
       "4                 10     0.003603          0.403854\n",
       "5                 12     0.005255          0.403882\n",
       "6                 14     0.006681          0.401576\n",
       "7                 16     0.008193          0.392868\n",
       "8                 18     0.009666          0.400543\n",
       "9                 20     0.011020          0.396093"
      ]
     },
     "execution_count": 47,
     "metadata": {},
     "output_type": "execute_result"
    }
   ],
   "source": [
    "error_mss_df"
   ]
  },
  {
   "cell_type": "markdown",
   "id": "c5d3503a",
   "metadata": {},
   "source": [
    "From the dataframe created above, it notices that there is no big difference for choosing values.We choose the value 16."
   ]
  },
  {
   "cell_type": "markdown",
   "id": "ba9a77e0",
   "metadata": {},
   "source": [
    "## Decision Tree Classifier (Best Version)"
   ]
  },
  {
   "cell_type": "code",
   "execution_count": 48,
   "id": "8ee66cb4",
   "metadata": {},
   "outputs": [],
   "source": [
    "model_best_tree = DecisionTreeClassifier(max_depth=8 , max_leaf_nodes=20 , min_samples_split=16 , random_state=42)"
   ]
  },
  {
   "cell_type": "code",
   "execution_count": 49,
   "id": "a4c78e1e",
   "metadata": {},
   "outputs": [
    {
     "data": {
      "text/plain": [
       "DecisionTreeClassifier(max_depth=8, max_leaf_nodes=20, min_samples_split=16,\n",
       "                       random_state=42)"
      ]
     },
     "execution_count": 49,
     "metadata": {},
     "output_type": "execute_result"
    }
   ],
   "source": [
    "model_best_tree.fit(train_input, train_target)"
   ]
  },
  {
   "cell_type": "code",
   "execution_count": 50,
   "id": "aaa6f1e8",
   "metadata": {},
   "outputs": [
    {
     "data": {
      "text/plain": [
       "0.8803264100082941"
      ]
     },
     "execution_count": 50,
     "metadata": {},
     "output_type": "execute_result"
    }
   ],
   "source": [
    "model_best_tree.score(train_input,train_target)"
   ]
  },
  {
   "cell_type": "code",
   "execution_count": 51,
   "id": "4c1a9384",
   "metadata": {},
   "outputs": [
    {
     "data": {
      "text/plain": [
       "0.718003862670053"
      ]
     },
     "execution_count": 51,
     "metadata": {},
     "output_type": "execute_result"
    }
   ],
   "source": [
    "model_best_tree.score(val_input,val_target)"
   ]
  },
  {
   "cell_type": "markdown",
   "id": "e55fbbb2",
   "metadata": {},
   "source": [
    "Compare to the original model,the performance has been improved from 59% to 71%.This shows the hyperparameters tuning works. "
   ]
  },
  {
   "cell_type": "markdown",
   "id": "bf0408c5",
   "metadata": {},
   "source": [
    "## Random Forests\n",
    "To train a random forest,we can use RandomForestClassifier from sklearn.ensemble ."
   ]
  },
  {
   "cell_type": "code",
   "execution_count": 52,
   "id": "12e4dc4a",
   "metadata": {},
   "outputs": [],
   "source": [
    "from sklearn.ensemble import RandomForestClassifier"
   ]
  },
  {
   "cell_type": "code",
   "execution_count": 53,
   "id": "9e3ea290",
   "metadata": {},
   "outputs": [],
   "source": [
    "model = RandomForestClassifier(n_jobs=-1,random_state=42)"
   ]
  },
  {
   "cell_type": "code",
   "execution_count": 54,
   "id": "9465a0d7",
   "metadata": {},
   "outputs": [
    {
     "data": {
      "text/plain": [
       "RandomForestClassifier(n_jobs=-1, random_state=42)"
      ]
     },
     "execution_count": 54,
     "metadata": {},
     "output_type": "execute_result"
    }
   ],
   "source": [
    "model.fit(train_input,train_target)"
   ]
  },
  {
   "cell_type": "code",
   "execution_count": 55,
   "id": "cb4616a3",
   "metadata": {},
   "outputs": [],
   "source": [
    "random_forest_pred_train = model.predict(train_input)"
   ]
  },
  {
   "cell_type": "code",
   "execution_count": 56,
   "id": "c98b2b61",
   "metadata": {},
   "outputs": [],
   "source": [
    "random_forest_pred_val = model.predict(val_input)"
   ]
  },
  {
   "cell_type": "code",
   "execution_count": 57,
   "id": "9799cf34",
   "metadata": {},
   "outputs": [
    {
     "data": {
      "text/plain": [
       "1.0"
      ]
     },
     "execution_count": 57,
     "metadata": {},
     "output_type": "execute_result"
    }
   ],
   "source": [
    "accuracy_score(train_target , random_forest_pred_train)"
   ]
  },
  {
   "cell_type": "code",
   "execution_count": 58,
   "id": "9b4f908b",
   "metadata": {},
   "outputs": [
    {
     "data": {
      "text/plain": [
       "0.6463463810460337"
      ]
     },
     "execution_count": 58,
     "metadata": {},
     "output_type": "execute_result"
    }
   ],
   "source": [
    "accuracy_score(val_target , random_forest_pred_val)"
   ]
  },
  {
   "cell_type": "markdown",
   "id": "67ec0b46",
   "metadata": {},
   "source": [
    "Although the random forest created can predict the training set with accuracy 100%,it predicts the validation set with the accuracy only 64%.Therefore, it seems that we should tune some hyperparameters to make improvement of our model."
   ]
  },
  {
   "cell_type": "markdown",
   "id": "b41deeb4",
   "metadata": {},
   "source": [
    "## Hyperparameter Tuning\n",
    "We will explore some hyperparameters and find the suitable values for model improvement.Now,it is convenient to define two helper function."
   ]
  },
  {
   "cell_type": "code",
   "execution_count": 59,
   "id": "4627a732",
   "metadata": {},
   "outputs": [],
   "source": [
    "# first helper function\n",
    "def test_params(**params):\n",
    "    model = RandomForestClassifier(random_state=42, n_jobs=-1, **params).fit(train_input, train_target)\n",
    "    train_acc = 1 - model.score(train_input,train_target)\n",
    "    val_acc = 1 - model.score(val_input,val_target)\n",
    "    return train_acc , val_acc"
   ]
  },
  {
   "cell_type": "code",
   "execution_count": 60,
   "id": "69e0cede",
   "metadata": {},
   "outputs": [],
   "source": [
    "# second helper function\n",
    "def test_param_and_plot(param_name, param_values):\n",
    "    train_accuracy, val_accuracy = [], [] \n",
    "    for value in param_values:\n",
    "        params = {param_name: value}\n",
    "        train_acc, val_acc = test_params(**params)\n",
    "        train_accuracy.append(train_acc)\n",
    "        val_accuracy.append(val_acc)\n",
    "    plt.figure(figsize=(10,6))\n",
    "    plt.title('Overfitting curve: ' + param_name)\n",
    "    plt.plot(param_values, train_accuracy, 'b-o')\n",
    "    plt.plot(param_values, val_accuracy, 'r-o')\n",
    "    plt.xlabel(param_name)\n",
    "    plt.ylabel('accuracy error (1-model_score)')\n",
    "    plt.legend(['Training', 'Validation'])"
   ]
  },
  {
   "cell_type": "code",
   "execution_count": 61,
   "id": "30f702ba",
   "metadata": {},
   "outputs": [],
   "source": [
    "!pip install numpy matplotlib seaborn plotly --upgrade --quiet"
   ]
  },
  {
   "cell_type": "code",
   "execution_count": 62,
   "id": "3ad4de1f",
   "metadata": {},
   "outputs": [],
   "source": [
    "import matplotlib.pyplot as plt"
   ]
  },
  {
   "cell_type": "code",
   "execution_count": 63,
   "id": "c94d166f",
   "metadata": {},
   "outputs": [],
   "source": [
    "import seaborn as sns\n",
    "sns.set_style('darkgrid')"
   ]
  },
  {
   "cell_type": "markdown",
   "id": "807866e4",
   "metadata": {},
   "source": [
    "### n_estimators"
   ]
  },
  {
   "cell_type": "code",
   "execution_count": 64,
   "id": "c6804d90",
   "metadata": {},
   "outputs": [
    {
     "data": {
      "image/png": "[encoded data removed]",
      "text/plain": [
       "<Figure size 720x432 with 1 Axes>"
      ]
     },
     "metadata": {},
     "output_type": "display_data"
    }
   ],
   "source": [
    "test_param_and_plot('n_estimators', range(50,501)[0::50])"
   ]
  },
  {
   "cell_type": "markdown",
   "id": "c1dfd942",
   "metadata": {},
   "source": [
    "It seems that the optimal value(least value) happen in [50,200].We should zoom in and do the investigation in this range."
   ]
  },
  {
   "cell_type": "code",
   "execution_count": 65,
   "id": "f71a28b0",
   "metadata": {},
   "outputs": [
    {
     "data": {
      "image/png": "[encoded data removed]",
      "text/plain": [
       "<Figure size 720x432 with 1 Axes>"
      ]
     },
     "metadata": {},
     "output_type": "display_data"
    }
   ],
   "source": [
    "test_param_and_plot('n_estimators', range(50,201)[0::50])"
   ]
  },
  {
   "cell_type": "code",
   "execution_count": 66,
   "id": "dce7221b",
   "metadata": {},
   "outputs": [
    {
     "data": {
      "text/plain": [
       "(0.0, 0.353186702793715)"
      ]
     },
     "execution_count": 66,
     "metadata": {},
     "output_type": "execute_result"
    }
   ],
   "source": [
    "test_params(n_estimators=150)"
   ]
  },
  {
   "cell_type": "code",
   "execution_count": 67,
   "id": "ab0c319f",
   "metadata": {},
   "outputs": [
    {
     "data": {
      "text/plain": [
       "(0.0, 0.35391537498319814)"
      ]
     },
     "execution_count": 67,
     "metadata": {},
     "output_type": "execute_result"
    }
   ],
   "source": [
    "test_params(n_estimators=200)"
   ]
  },
  {
   "cell_type": "markdown",
   "id": "b17323c1",
   "metadata": {},
   "source": [
    "From the result above, it is reasonable to choose 150 as our optimal value."
   ]
  },
  {
   "cell_type": "markdown",
   "id": "b2ac95ee",
   "metadata": {},
   "source": [
    "## max_features"
   ]
  },
  {
   "cell_type": "code",
   "execution_count": 68,
   "id": "78801ac4",
   "metadata": {},
   "outputs": [
    {
     "data": {
      "text/plain": [
       "(0.0, 0.35695033002483145)"
      ]
     },
     "execution_count": 68,
     "metadata": {},
     "output_type": "execute_result"
    }
   ],
   "source": [
    "test_params(max_features='log2')"
   ]
  },
  {
   "cell_type": "code",
   "execution_count": 69,
   "id": "c1410a09",
   "metadata": {},
   "outputs": [
    {
     "data": {
      "text/plain": [
       "(0.0, 0.3536536189539663)"
      ]
     },
     "execution_count": 69,
     "metadata": {},
     "output_type": "execute_result"
    }
   ],
   "source": [
    "test_params(max_features='sqrt')"
   ]
  },
  {
   "cell_type": "code",
   "execution_count": 70,
   "id": "dcdf7c98",
   "metadata": {},
   "outputs": [
    {
     "data": {
      "text/plain": [
       "(0.0, 0.36287875036256745)"
      ]
     },
     "execution_count": 70,
     "metadata": {},
     "output_type": "execute_result"
    }
   ],
   "source": [
    "test_params(max_features=None)"
   ]
  },
  {
   "cell_type": "code",
   "execution_count": 71,
   "id": "c2a65c51",
   "metadata": {},
   "outputs": [
    {
     "data": {
      "image/png": "[encoded data removed]",
      "text/plain": [
       "<Figure size 720x432 with 1 Axes>"
      ]
     },
     "metadata": {},
     "output_type": "display_data"
    }
   ],
   "source": [
    "test_param_and_plot('max_features' , range(5,31)[0::5] )"
   ]
  },
  {
   "cell_type": "markdown",
   "id": "8c49a955",
   "metadata": {},
   "source": [
    "From the graph,we should choose max_features=10."
   ]
  },
  {
   "cell_type": "code",
   "execution_count": 72,
   "id": "4637f6b2",
   "metadata": {},
   "outputs": [
    {
     "data": {
      "text/plain": [
       "(0.0, 0.3522670194477655)"
      ]
     },
     "execution_count": 72,
     "metadata": {},
     "output_type": "execute_result"
    }
   ],
   "source": [
    "test_params(max_features=10)"
   ]
  },
  {
   "cell_type": "markdown",
   "id": "d83a4b5e",
   "metadata": {},
   "source": [
    "Combining all cases of max_features, we should choose 10 as our optimal value for the max_features hyperparameter such that the accuracy error will be the lowest."
   ]
  },
  {
   "cell_type": "markdown",
   "id": "ed97bc2e",
   "metadata": {},
   "source": [
    "## max_depth and max_leaf_nodes"
   ]
  },
  {
   "cell_type": "code",
   "execution_count": 73,
   "id": "5b7f6fdc",
   "metadata": {},
   "outputs": [
    {
     "data": {
      "image/png": "[encoded data removed]",
      "text/plain": [
       "<Figure size 720x432 with 1 Axes>"
      ]
     },
     "metadata": {},
     "output_type": "display_data"
    }
   ],
   "source": [
    "test_param_and_plot('max_depth' , range(2,25)[0:23:2])"
   ]
  },
  {
   "cell_type": "markdown",
   "id": "fe477520",
   "metadata": {},
   "source": [
    "From the above result,we should choose 20 as the optimal value for the max_depth hyperparameter."
   ]
  },
  {
   "cell_type": "code",
   "execution_count": 74,
   "id": "8370aa27",
   "metadata": {},
   "outputs": [
    {
     "data": {
      "image/png": "[encoded data removed]",
      "text/plain": [
       "<Figure size 720x432 with 1 Axes>"
      ]
     },
     "metadata": {},
     "output_type": "display_data"
    }
   ],
   "source": [
    "test_param_and_plot('max_leaf_nodes' , range(50,601)[0::50])"
   ]
  },
  {
   "cell_type": "markdown",
   "id": "6a846e4f",
   "metadata": {},
   "source": [
    "From the graph,it is wise to zoom in and pay attention to the range [400,600] since this range has relatively low accuracy error."
   ]
  },
  {
   "cell_type": "code",
   "execution_count": 75,
   "id": "51cf3cab",
   "metadata": {},
   "outputs": [
    {
     "data": {
      "image/png": "[encoded data removed]",
      "text/plain": [
       "<Figure size 720x432 with 1 Axes>"
      ]
     },
     "metadata": {},
     "output_type": "display_data"
    }
   ],
   "source": [
    "test_param_and_plot('max_leaf_nodes' , range(400,601)[0::50])"
   ]
  },
  {
   "cell_type": "code",
   "execution_count": 76,
   "id": "b8792652",
   "metadata": {},
   "outputs": [
    {
     "data": {
      "text/plain": [
       "(0.05936808819463646, 0.3559881997552228)"
      ]
     },
     "execution_count": 76,
     "metadata": {},
     "output_type": "execute_result"
    }
   ],
   "source": [
    "test_params(max_leaf_nodes=500)"
   ]
  },
  {
   "cell_type": "code",
   "execution_count": 77,
   "id": "e91a2a2a",
   "metadata": {},
   "outputs": [
    {
     "data": {
      "text/plain": [
       "(0.056910077412220095, 0.35575474167509713)"
      ]
     },
     "execution_count": 77,
     "metadata": {},
     "output_type": "execute_result"
    }
   ],
   "source": [
    "test_params(max_leaf_nodes=550)"
   ]
  },
  {
   "cell_type": "code",
   "execution_count": 78,
   "id": "fed8980f",
   "metadata": {},
   "outputs": [
    {
     "data": {
      "text/plain": [
       "(0.054899174039259035, 0.3555566560313541)"
      ]
     },
     "execution_count": 78,
     "metadata": {},
     "output_type": "execute_result"
    }
   ],
   "source": [
    "test_params(max_leaf_nodes=600)"
   ]
  },
  {
   "cell_type": "markdown",
   "id": "4b8bbae0",
   "metadata": {},
   "source": [
    "In the range [50,600] ,we should choose 600 as the optimal value of our max_leaf_nodes hyperparameters such that the error of accuracy is the lowest. "
   ]
  },
  {
   "cell_type": "markdown",
   "id": "047fd74f",
   "metadata": {},
   "source": [
    "## Bootstrap\n",
    "We should set bootstrap =True such that the entire dataset will not be used for training each decision tree and make a better generalization of random forest model by bootstrapping."
   ]
  },
  {
   "cell_type": "markdown",
   "id": "cdc91638",
   "metadata": {},
   "source": [
    "## max_samples\n",
    "When bootstrap=True , this parameter will help to pick the required number of samples from the dataset to train each base estimator."
   ]
  },
  {
   "cell_type": "code",
   "execution_count": 79,
   "id": "c375c058",
   "metadata": {},
   "outputs": [
    {
     "data": {
      "text/plain": [
       "(0.0, 0.3536536189539663)"
      ]
     },
     "execution_count": 79,
     "metadata": {},
     "output_type": "execute_result"
    }
   ],
   "source": [
    "test_params(max_samples=None)"
   ]
  },
  {
   "cell_type": "code",
   "execution_count": 80,
   "id": "aba34be5",
   "metadata": {},
   "outputs": [
    {
     "data": {
      "image/png": "[encoded data removed]",
      "text/plain": [
       "<Figure size 720x432 with 1 Axes>"
      ]
     },
     "metadata": {},
     "output_type": "display_data"
    }
   ],
   "source": [
    "test_param_and_plot('max_samples' , [0.1,0.2,0.3,0.4,0.5,0.6,0.7,0.8,0.9])"
   ]
  },
  {
   "cell_type": "code",
   "execution_count": 81,
   "id": "ce740872",
   "metadata": {},
   "outputs": [
    {
     "data": {
      "text/plain": [
       "(0.028532796516450132, 0.35315133035733237)"
      ]
     },
     "execution_count": 81,
     "metadata": {},
     "output_type": "execute_result"
    }
   ],
   "source": [
    "test_params(max_samples=0.1)"
   ]
  },
  {
   "cell_type": "code",
   "execution_count": 82,
   "id": "2f21d3dc",
   "metadata": {},
   "outputs": [
    {
     "data": {
      "text/plain": [
       "(0.0, 0.3542266524233656)"
      ]
     },
     "execution_count": 82,
     "metadata": {},
     "output_type": "execute_result"
    }
   ],
   "source": [
    "test_params(max_samples=0.9)"
   ]
  },
  {
   "cell_type": "markdown",
   "id": "769857c9",
   "metadata": {},
   "source": [
    "From the above result, we should pick 0.1 as the optimal value for the hyperparameter max_samples as its validation accuracy error is the lowest among all the choices."
   ]
  },
  {
   "cell_type": "markdown",
   "id": "fd5da158",
   "metadata": {},
   "source": [
    "## min_samples_split "
   ]
  },
  {
   "cell_type": "code",
   "execution_count": 83,
   "id": "22af8a8c",
   "metadata": {},
   "outputs": [
    {
     "data": {
      "image/png": "[encoded data removed]",
      "text/plain": [
       "<Figure size 720x432 with 1 Axes>"
      ]
     },
     "metadata": {},
     "output_type": "display_data"
    }
   ],
   "source": [
    "test_param_and_plot('min_samples_split' , range(2,11))"
   ]
  },
  {
   "cell_type": "code",
   "execution_count": 84,
   "id": "e212eb23",
   "metadata": {},
   "outputs": [
    {
     "data": {
      "text/plain": [
       "(1.2959635056652985e-05, 0.3535475016448183)"
      ]
     },
     "execution_count": 84,
     "metadata": {},
     "output_type": "execute_result"
    }
   ],
   "source": [
    "test_params(min_samples_split=4)"
   ]
  },
  {
   "cell_type": "code",
   "execution_count": 85,
   "id": "8963cc56",
   "metadata": {},
   "outputs": [
    {
     "data": {
      "text/plain": [
       "(0.00013175628974293474, 0.35408516267783496)"
      ]
     },
     "execution_count": 85,
     "metadata": {},
     "output_type": "execute_result"
    }
   ],
   "source": [
    "test_params(min_samples_split=6)"
   ]
  },
  {
   "cell_type": "code",
   "execution_count": 86,
   "id": "4b6ed6b0",
   "metadata": {},
   "outputs": [
    {
     "data": {
      "text/plain": [
       "(0.00024407312690077898, 0.3536253210048602)"
      ]
     },
     "execution_count": 86,
     "metadata": {},
     "output_type": "execute_result"
    }
   ],
   "source": [
    "test_params(min_samples_split=7)"
   ]
  },
  {
   "cell_type": "markdown",
   "id": "d0fbc20f",
   "metadata": {},
   "source": [
    "From the result above, we should choose 4 as optimal value for min_samples_split hyperparameter to reduce the accuracy error."
   ]
  },
  {
   "cell_type": "markdown",
   "id": "d7621a6b",
   "metadata": {},
   "source": [
    "## Random Forest (Best Version)"
   ]
  },
  {
   "cell_type": "code",
   "execution_count": 87,
   "id": "51cc595c",
   "metadata": {},
   "outputs": [],
   "source": [
    "model_random_forest = RandomForestClassifier(n_jobs=-1,random_state=42,n_estimators=150,max_features=10\n",
    "                                            ,max_depth=20,max_leaf_nodes=600,bootstrap=True,max_samples=0.1,\n",
    "                                            min_samples_split=4,min_samples_leaf=2)"
   ]
  },
  {
   "cell_type": "code",
   "execution_count": 88,
   "id": "9c3d1d61",
   "metadata": {},
   "outputs": [
    {
     "data": {
      "text/plain": [
       "RandomForestClassifier(max_depth=20, max_features=10, max_leaf_nodes=600,\n",
       "                       max_samples=0.1, min_samples_leaf=2, min_samples_split=4,\n",
       "                       n_estimators=150, n_jobs=-1, random_state=42)"
      ]
     },
     "execution_count": 88,
     "metadata": {},
     "output_type": "execute_result"
    }
   ],
   "source": [
    "model_random_forest.fit(train_input,train_target)"
   ]
  },
  {
   "cell_type": "code",
   "execution_count": 89,
   "id": "3d80c87c",
   "metadata": {},
   "outputs": [],
   "source": [
    "train_pred_best_randomforest = model_random_forest.predict(train_input)"
   ]
  },
  {
   "cell_type": "code",
   "execution_count": 90,
   "id": "f34a55da",
   "metadata": {},
   "outputs": [],
   "source": [
    "val_pred_best_randomforest = model_random_forest.predict(val_input)"
   ]
  },
  {
   "cell_type": "code",
   "execution_count": 91,
   "id": "bca8730e",
   "metadata": {},
   "outputs": [
    {
     "data": {
      "text/plain": [
       "0.9510600981476361"
      ]
     },
     "execution_count": 91,
     "metadata": {},
     "output_type": "execute_result"
    }
   ],
   "source": [
    "accuracy_score(train_target , train_pred_best_randomforest)"
   ]
  },
  {
   "cell_type": "code",
   "execution_count": 92,
   "id": "94b2f7e1",
   "metadata": {},
   "outputs": [
    {
     "data": {
      "text/plain": [
       "0.6488436750546505"
      ]
     },
     "execution_count": 92,
     "metadata": {},
     "output_type": "execute_result"
    }
   ],
   "source": [
    "accuracy_score(val_target , val_pred_best_randomforest)"
   ]
  },
  {
   "cell_type": "markdown",
   "id": "646068ec",
   "metadata": {},
   "source": [
    "Although many hyperparameters are trained, the accuracy of random forest seems to improve slightly,from 0.646 to 0.648. "
   ]
  },
  {
   "cell_type": "markdown",
   "id": "72c3f9e8",
   "metadata": {},
   "source": [
    "## Prediction on the Test set \n",
    "At the previous line of code, the test set has already do the normalization and all the values of input columns do not contain nan value."
   ]
  },
  {
   "cell_type": "code",
   "execution_count": 93,
   "id": "6f7c46d5",
   "metadata": {},
   "outputs": [],
   "source": [
    "testing_data_set_pred1 = model_best_tree.predict(testing_data_set[input_cols])"
   ]
  },
  {
   "cell_type": "code",
   "execution_count": 94,
   "id": "26e0f1e2",
   "metadata": {},
   "outputs": [],
   "source": [
    "testing_data_set_pred2 = model_random_forest.predict(testing_data_set[input_cols])"
   ]
  },
  {
   "cell_type": "code",
   "execution_count": 95,
   "id": "c5e92c35",
   "metadata": {},
   "outputs": [],
   "source": [
    "testing_data_set['IsAlert_DTC'] = testing_data_set_pred1"
   ]
  },
  {
   "cell_type": "code",
   "execution_count": 96,
   "id": "987e246f",
   "metadata": {},
   "outputs": [],
   "source": [
    "testing_data_set['IsAlert_RFC'] = testing_data_set_pred2"
   ]
  },
  {
   "cell_type": "code",
   "execution_count": 97,
   "id": "e2bbfd80",
   "metadata": {},
   "outputs": [
    {
     "data": {
      "text/html": [
       "<div>\n",
       "<style scoped>\n",
       "    .dataframe tbody tr th:only-of-type {\n",
       "        vertical-align: middle;\n",
       "    }\n",
       "\n",
       "    .dataframe tbody tr th {\n",
       "        vertical-align: top;\n",
       "    }\n",
       "\n",
       "    .dataframe thead th {\n",
       "        text-align: right;\n",
       "    }\n",
       "</style>\n",
       "<table border=\"1\" class=\"dataframe\">\n",
       "  <thead>\n",
       "    <tr style=\"text-align: right;\">\n",
       "      <th></th>\n",
       "      <th>IsAlert</th>\n",
       "      <th>IsAlert_DTC</th>\n",
       "      <th>IsAlert_RFC</th>\n",
       "    </tr>\n",
       "  </thead>\n",
       "  <tbody>\n",
       "    <tr>\n",
       "      <th>0</th>\n",
       "      <td>?</td>\n",
       "      <td>1</td>\n",
       "      <td>1</td>\n",
       "    </tr>\n",
       "    <tr>\n",
       "      <th>1</th>\n",
       "      <td>?</td>\n",
       "      <td>1</td>\n",
       "      <td>1</td>\n",
       "    </tr>\n",
       "    <tr>\n",
       "      <th>2</th>\n",
       "      <td>?</td>\n",
       "      <td>1</td>\n",
       "      <td>1</td>\n",
       "    </tr>\n",
       "    <tr>\n",
       "      <th>3</th>\n",
       "      <td>?</td>\n",
       "      <td>1</td>\n",
       "      <td>1</td>\n",
       "    </tr>\n",
       "    <tr>\n",
       "      <th>4</th>\n",
       "      <td>?</td>\n",
       "      <td>1</td>\n",
       "      <td>1</td>\n",
       "    </tr>\n",
       "    <tr>\n",
       "      <th>...</th>\n",
       "      <td>...</td>\n",
       "      <td>...</td>\n",
       "      <td>...</td>\n",
       "    </tr>\n",
       "    <tr>\n",
       "      <th>120835</th>\n",
       "      <td>?</td>\n",
       "      <td>1</td>\n",
       "      <td>1</td>\n",
       "    </tr>\n",
       "    <tr>\n",
       "      <th>120836</th>\n",
       "      <td>?</td>\n",
       "      <td>1</td>\n",
       "      <td>1</td>\n",
       "    </tr>\n",
       "    <tr>\n",
       "      <th>120837</th>\n",
       "      <td>?</td>\n",
       "      <td>1</td>\n",
       "      <td>1</td>\n",
       "    </tr>\n",
       "    <tr>\n",
       "      <th>120838</th>\n",
       "      <td>?</td>\n",
       "      <td>1</td>\n",
       "      <td>1</td>\n",
       "    </tr>\n",
       "    <tr>\n",
       "      <th>120839</th>\n",
       "      <td>?</td>\n",
       "      <td>1</td>\n",
       "      <td>1</td>\n",
       "    </tr>\n",
       "  </tbody>\n",
       "</table>\n",
       "<p>120840 rows × 3 columns</p>\n",
       "</div>"
      ],
      "text/plain": [
       "       IsAlert  IsAlert_DTC  IsAlert_RFC\n",
       "0            ?            1            1\n",
       "1            ?            1            1\n",
       "2            ?            1            1\n",
       "3            ?            1            1\n",
       "4            ?            1            1\n",
       "...        ...          ...          ...\n",
       "120835       ?            1            1\n",
       "120836       ?            1            1\n",
       "120837       ?            1            1\n",
       "120838       ?            1            1\n",
       "120839       ?            1            1\n",
       "\n",
       "[120840 rows x 3 columns]"
      ]
     },
     "execution_count": 97,
     "metadata": {},
     "output_type": "execute_result"
    }
   ],
   "source": [
    "testing_data_set[['IsAlert','IsAlert_DTC','IsAlert_RFC']]"
   ]
  },
  {
   "cell_type": "markdown",
   "id": "e0ab23be",
   "metadata": {},
   "source": [
    "# Summary\n",
    "\n",
    "So far, what we have done in this project is:\n",
    "1. Downloading the dataset from Kaggle\n",
    "2. Converting the downloaded train set and test set from csv excel file into pandas dataframe in this notebook.\n",
    "3. Spliting train set into training set and validation set with 75% and 25% data correspondingly.\n",
    "4. Selecting input and target columns and using them to simplify the training set and validation set.\n",
    "5. Checking miss numerical data. Scaling all the numerical columns . Checking whether to use OneHotEncoder or not.\n",
    "6. Creating the DecisionTree, tuning the hyperparameter and finally creating the best decision tree to minimize the \n",
    "   error of predicting validation set.\n",
    "7. Creating the Random Forest Classifier, tuning the hyperparameters and finally creating the best random forest classifier\n",
    "   to minimize the prediction error in validation set.\n",
    "8. Using the two models to predict the target column in test set,but not do the submission to Kaggle Competition.\n",
    "\n",
    "\n",
    "### Comparsion between two models\n",
    "The best model among the decision tree classifier and random forest classifier is the decision tree classifier because this model can predict the validation set with accuracy around 71-72% but the random forest model predicts with accuracy only 64-65%. "
   ]
  },
  {
   "cell_type": "code",
   "execution_count": 5,
   "id": "751a558f",
   "metadata": {},
   "outputs": [],
   "source": [
    "project_name = \"machine-learning-project-by-sinchunhung\""
   ]
  },
  {
   "cell_type": "code",
   "execution_count": 6,
   "id": "ae01c24d",
   "metadata": {},
   "outputs": [],
   "source": [
    "!pip install jovian --upgrade --quiet"
   ]
  },
  {
   "cell_type": "code",
   "execution_count": 7,
   "id": "8c1471d7",
   "metadata": {},
   "outputs": [],
   "source": [
    "import jovian"
   ]
  },
  {
   "cell_type": "code",
   "execution_count": null,
   "id": "e3663de4",
   "metadata": {},
   "outputs": [
    {
     "data": {
      "application/javascript": [
       "window.require && require([\"base/js/namespace\"],function(Jupyter){Jupyter.notebook.save_checkpoint()})"
      ],
      "text/plain": [
       "<IPython.core.display.Javascript object>"
      ]
     },
     "metadata": {},
     "output_type": "display_data"
    }
   ],
   "source": [
    "jovian.commit(project=project_name)"
   ]
  },
  {
   "cell_type": "code",
   "execution_count": 100,
   "id": "4fa25b5c",
   "metadata": {},
   "outputs": [
    {
     "data": {
      "application/javascript": [
       "window.require && require([\"base/js/namespace\"],function(Jupyter){Jupyter.notebook.save_checkpoint()})"
      ],
      "text/plain": [
       "<IPython.core.display.Javascript object>"
      ]
     },
     "metadata": {},
     "output_type": "display_data"
    },
    {
     "name": "stdout",
     "output_type": "stream",
     "text": [
      "[jovian] Committed successfully! https://jovian.ai/sinchunsimon/machine-learning-project\n",
      "[jovian] Submitting assignment..\n",
      "[jovian] Verify your submission at https://jovian.ai/learn/machine-learning-with-python-zero-to-gbms/assignment/course-project-real-world-machine-learning-model\n"
     ]
    }
   ],
   "source": [
    "jovian.submit(assignment=\"zerotogbms-project\")"
   ]
  },
  {
   "cell_type": "code",
   "execution_count": null,
   "id": "59f14651",
   "metadata": {},
   "outputs": [],
   "source": []
  }
 ],
 "metadata": {
  "language_info": {
   "codemirror_mode": {
    "name": "ipython",
    "version": 3
   },
   "file_extension": ".py",
   "mimetype": "text/x-python",
   "name": "python",
   "nbconvert_exporter": "python",
   "pygments_lexer": "ipython3",
   "version": "3.8.8"
  }
 },
 "nbformat": 4,
 "nbformat_minor": 5
}